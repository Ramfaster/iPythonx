{
 "cells": [
  {
   "cell_type": "code",
   "execution_count": 2,
   "metadata": {},
   "outputs": [],
   "source": [
    "x = {'a':1, 'b':2}"
   ]
  },
  {
   "cell_type": "code",
   "execution_count": 3,
   "metadata": {},
   "outputs": [
    {
     "data": {
      "text/plain": [
       "2"
      ]
     },
     "execution_count": 3,
     "metadata": {},
     "output_type": "execute_result"
    }
   ],
   "source": [
    "x['b']"
   ]
  },
  {
   "cell_type": "code",
   "execution_count": 4,
   "metadata": {},
   "outputs": [
    {
     "name": "stdout",
     "output_type": "stream",
     "text": [
      "kim\n"
     ]
    }
   ],
   "source": [
    "my_info = {'name':'kim','age':30,'키':175}\n",
    "\n",
    "if my_info['키'] > 20:\n",
    "    print(my_info['name'])"
   ]
  },
  {
   "cell_type": "code",
   "execution_count": 5,
   "metadata": {},
   "outputs": [
    {
     "data": {
      "text/plain": [
       "{'name': 'kim', 'age': 30, '키': 180}"
      ]
     },
     "execution_count": 5,
     "metadata": {},
     "output_type": "execute_result"
    }
   ],
   "source": [
    "my_info['키'] = 180\n",
    "my_info"
   ]
  },
  {
   "cell_type": "code",
   "execution_count": 8,
   "metadata": {},
   "outputs": [
    {
     "name": "stdout",
     "output_type": "stream",
     "text": [
      "kim\n",
      "30\n",
      "180\n"
     ]
    }
   ],
   "source": [
    "for info in my_info.keys():\n",
    "    print(my_info[info])"
   ]
  },
  {
   "cell_type": "code",
   "execution_count": 16,
   "metadata": {},
   "outputs": [
    {
     "name": "stdout",
     "output_type": "stream",
     "text": [
      "name :  kim\n",
      "age :  30\n",
      "키 :  180\n"
     ]
    }
   ],
   "source": [
    "for key,value in my_info.items():\n",
    "    print(key ,': ', value)"
   ]
  },
  {
   "cell_type": "code",
   "execution_count": 18,
   "metadata": {},
   "outputs": [
    {
     "data": {
      "text/plain": [
       "dict"
      ]
     },
     "execution_count": 18,
     "metadata": {},
     "output_type": "execute_result"
    }
   ],
   "source": [
    "word_list = ['test','Test','apple','orange','dog','cat','CAT']\n",
    "word_list\n",
    "word_count = {}\n",
    "type(word_count)"
   ]
  },
  {
   "cell_type": "code",
   "execution_count": 24,
   "metadata": {},
   "outputs": [
    {
     "name": "stdout",
     "output_type": "stream",
     "text": [
      "{'test': 2, 'apple': 1, 'orange': 1, 'dog': 1, 'cat': 2}\n"
     ]
    }
   ],
   "source": [
    "def word_count_dict (word_list):\n",
    "    word_count = {}\n",
    "    for word in word_list:\n",
    "        word = word.lower()\n",
    "        #print(word)\n",
    "        if not word in word_count:\n",
    "            word_count[word] = 1\n",
    "            #print(word_count)\n",
    "        else:\n",
    "            word_count[word] += 1\n",
    "           #print(word_count)\n",
    "    print(word_count)\n",
    "        \n",
    "word_count_dict(word_list)        "
   ]
  },
  {
   "cell_type": "code",
   "execution_count": 28,
   "metadata": {},
   "outputs": [
    {
     "data": {
      "text/plain": [
       "dict"
      ]
     },
     "execution_count": 28,
     "metadata": {},
     "output_type": "execute_result"
    }
   ],
   "source": [
    "stock = {\n",
    "    'name':'삼성전자',\n",
    "    'close':[\n",
    "        ('2010-08-01',45000),\n",
    "        ('2010-08-02',48000),\n",
    "        ('2010-08-03',50000)\n",
    "    ]\n",
    "}\n",
    "\n",
    "#type(stock)\n",
    "\n",
    "for c in stock['close']:\n",
    "    print(c[0], \": \", c[1])"
   ]
  },
  {
   "cell_type": "code",
   "execution_count": 45,
   "metadata": {},
   "outputs": [
    {
     "name": "stdout",
     "output_type": "stream",
     "text": [
      "{2: [], 3: [(2, 1)], 4: [(2, 2), (3, 1)], 5: [(2, 3), (3, 2), (4, 1)], 6: [(2, 4), (3, 3), (4, 2), (5, 1)], 7: [(2, 5), (3, 4), (4, 3), (5, 2), (6, 1)], 8: [(3, 5), (4, 4), (5, 3), (6, 2)], 9: [(4, 5), (5, 4), (6, 3)], 10: [(5, 5), (6, 4)], 11: [(6, 5)], 12: []}\n"
     ]
    }
   ],
   "source": [
    "d = {}\n",
    "\n",
    "for i in range(1,7):\n",
    "    #print(i)\n",
    "    for k in range(1,7):\n",
    "        #print(i, k)\n",
    "        newTuple = (i, k)\n",
    "        # = newTuple\n",
    "        #print(d)\n",
    "        added = i + k\n",
    "        #rint (added , \":\", d)\n",
    "        \n",
    "        if added not in d:\n",
    "            d[added] = []\n",
    "        else:\n",
    "            d[added].append(newTuple)\n",
    "\n",
    "print(d)"
   ]
  },
  {
   "cell_type": "code",
   "execution_count": 60,
   "metadata": {},
   "outputs": [
    {
     "name": "stdout",
     "output_type": "stream",
     "text": [
      "sp :  ng --> spng\n",
      "He :  lo --> Helo\n"
     ]
    }
   ],
   "source": [
    "def both_ends(nStr):\n",
    "    fStr = nStr[0:2]\n",
    "    eStr = nStr[-2:]\n",
    "    print(fStr, ': ', eStr, '-->', fStr+eStr)\n",
    "    \n",
    "both_ends('spring')\n",
    "both_ends('Hello')"
   ]
  },
  {
   "cell_type": "code",
   "execution_count": 76,
   "metadata": {},
   "outputs": [
    {
     "data": {
      "text/plain": [
       "'ba**le'"
      ]
     },
     "execution_count": 76,
     "metadata": {},
     "output_type": "execute_result"
    }
   ],
   "source": [
    "def fix_start(nStr):\n",
    "    fStr = nStr[0]\n",
    "    eStr = nStr[1:]\n",
    "    return fStr + eStr.replace(fStr,'*')\n",
    "\n",
    "          \n",
    "fix_start('babble')    "
   ]
  },
  {
   "cell_type": "code",
   "execution_count": 82,
   "metadata": {},
   "outputs": [
    {
     "data": {
      "text/plain": [
       "'goood    morning'"
      ]
     },
     "execution_count": 82,
     "metadata": {},
     "output_type": "execute_result"
    }
   ],
   "source": [
    "s = 'good morning'\n",
    "'''\n",
    " 해당 객체에서 사용되는 시스템 함수, 변수\n",
    "'''\n",
    "dir(s)\n",
    "\n",
    "s.upper()\n",
    "s.lower()\n",
    "s.count('o')\n",
    "\n",
    "w = \"          goood    morning    \\n\"\n",
    "w.strip()"
   ]
  },
  {
   "cell_type": "code",
   "execution_count": 89,
   "metadata": {},
   "outputs": [
    {
     "name": "stdout",
     "output_type": "stream",
     "text": [
      "not found\n",
      "Not found\n"
     ]
    }
   ],
   "source": [
    "s = 'World Cup'\n",
    "\n",
    "#s.find(\"x\")  '''해당 값이 없을 경우 -1 값 리턴'''\n",
    "if s.find(\"x\") == -1:\n",
    "    print(\"not found\")\n",
    "\n",
    "if \"x\" not in s:\n",
    "    print (\"Not found\")"
   ]
  },
  {
   "cell_type": "code",
   "execution_count": 90,
   "metadata": {},
   "outputs": [
    {
     "data": {
      "text/plain": [
       "'Korea Cup'"
      ]
     },
     "execution_count": 90,
     "metadata": {},
     "output_type": "execute_result"
    }
   ],
   "source": [
    "s.replace('World', 'Korea')"
   ]
  },
  {
   "cell_type": "code",
   "execution_count": 93,
   "metadata": {},
   "outputs": [
    {
     "data": {
      "text/plain": [
       "['World', ' Cup']"
      ]
     },
     "execution_count": 93,
     "metadata": {},
     "output_type": "execute_result"
    }
   ],
   "source": [
    "s = 'World, Cup'\n",
    "s\n",
    "splited = s.split(',')\n",
    "splited"
   ]
  },
  {
   "cell_type": "code",
   "execution_count": 95,
   "metadata": {},
   "outputs": [
    {
     "data": {
      "text/plain": [
       "'World- Cup'"
      ]
     },
     "execution_count": 95,
     "metadata": {},
     "output_type": "execute_result"
    }
   ],
   "source": [
    "'-'.join(splited)"
   ]
  },
  {
   "cell_type": "code",
   "execution_count": 98,
   "metadata": {},
   "outputs": [
    {
     "data": {
      "text/plain": [
       "'one ** two ** Three'"
      ]
     },
     "execution_count": 98,
     "metadata": {},
     "output_type": "execute_result"
    }
   ],
   "source": [
    "' ** '.join(['one','two','Three'])"
   ]
  },
  {
   "cell_type": "code",
   "execution_count": 100,
   "metadata": {},
   "outputs": [
    {
     "data": {
      "text/plain": [
       "'python is funny and amazing'"
      ]
     },
     "execution_count": 100,
     "metadata": {},
     "output_type": "execute_result"
    }
   ],
   "source": [
    "x = 'funny'\n",
    "y = 'amazing'\n",
    "\"python is {} and {}\".format(x,y)"
   ]
  },
  {
   "cell_type": "code",
   "execution_count": 103,
   "metadata": {},
   "outputs": [
    {
     "data": {
      "text/plain": [
       "\"python is 1.53 and ['amazing', 'very']\""
      ]
     },
     "execution_count": 103,
     "metadata": {},
     "output_type": "execute_result"
    }
   ],
   "source": [
    "x = 1.534423\n",
    "y = ['amazing','very']\n",
    "\"python is {:.2f} and {}\".format(x,y)"
   ]
  },
  {
   "cell_type": "code",
   "execution_count": 104,
   "metadata": {},
   "outputs": [
    {
     "name": "stdout",
     "output_type": "stream",
     "text": [
      "친구들 이름 철수, james, july\n"
     ]
    }
   ],
   "source": [
    "print('친구들 이름 {a}, {b}, {c}'.format(a='철수', b='james', c='july'))"
   ]
  },
  {
   "cell_type": "code",
   "execution_count": 109,
   "metadata": {},
   "outputs": [
    {
     "name": "stdout",
     "output_type": "stream",
     "text": [
      "The value of pi is approximately 3.142.\n"
     ]
    }
   ],
   "source": [
    "import math\n",
    "print(f'The value of pi is approximately {math.pi:.3f}.')"
   ]
  },
  {
   "cell_type": "code",
   "execution_count": 112,
   "metadata": {},
   "outputs": [
    {
     "name": "stdout",
     "output_type": "stream",
     "text": [
      "EN\n"
     ]
    }
   ],
   "source": [
    " s = 'jANE dOE'\n",
    "print(s[3:1:-1])"
   ]
  },
  {
   "cell_type": "code",
   "execution_count": 130,
   "metadata": {},
   "outputs": [
    {
     "name": "stdout",
     "output_type": "stream",
     "text": [
      "h :  2  개\n",
      "e :  1  개\n",
      "l :  3  개\n",
      "o :  3  개\n",
      "p :  1  개\n",
      "y :  1  개\n",
      "t :  1  개\n",
      "n :  1  개\n",
      "w :  1  개\n",
      "r :  1  개\n",
      "d :  1  개\n"
     ]
    }
   ],
   "source": [
    "s = 'Hello, Python World'\n",
    "rt = s.lower().replace(',',\"\").replace(\" \",\"\")\n",
    "d = {}\n",
    "\n",
    "for c in rt:\n",
    "    #print (c)\n",
    "    \n",
    "    if c in d:\n",
    "        d[c] += 1\n",
    "    else:\n",
    "        d[c] = 1\n",
    "        \n",
    "for k, v in d.items():\n",
    "    print(k, ': ', v, ' 개')\n",
    "    \n",
    "    "
   ]
  },
  {
   "cell_type": "code",
   "execution_count": 147,
   "metadata": {},
   "outputs": [
    {
     "name": "stdout",
     "output_type": "stream",
     "text": [
      "남 :  3 , 여 :  5\n"
     ]
    }
   ],
   "source": [
    "id_list = ['920801-1041798', '800902-2048746', '971010-1023987', '871203-2014987',\n",
    "         '820801-1041798', '900902-2048746', '941010-1023987', '971203-2014987']\n",
    "i = 0\n",
    "k = 0\n",
    "    \n",
    "for id in id_list:\n",
    "\n",
    "    if id[7] == '1' and id[:2] >= '90':\n",
    "        i += 1\n",
    "        #print ('남 :', i)\n",
    "    else:\n",
    "        k += 1\n",
    "\n",
    "print('남 : ', i , ', 여 : ', k)"
   ]
  },
  {
   "cell_type": "code",
   "execution_count": 153,
   "metadata": {},
   "outputs": [
    {
     "data": {
      "text/plain": [
       "4"
      ]
     },
     "execution_count": 153,
     "metadata": {},
     "output_type": "execute_result"
    }
   ],
   "source": [
    "s = \"You don't go to school on Saturday. I want you be happy. I miss you very much. You don't forget me\"\n",
    "\n",
    "s.lower().count('you')"
   ]
  },
  {
   "cell_type": "code",
   "execution_count": 151,
   "metadata": {},
   "outputs": [
    {
     "name": "stdout",
     "output_type": "stream",
     "text": [
      "You don't go to school on Saturday. I want you be happy. I miss you very much. You don't forget me\n"
     ]
    }
   ],
   "source": [
    "print(s)"
   ]
  },
  {
   "cell_type": "code",
   "execution_count": 2,
   "metadata": {},
   "outputs": [],
   "source": [
    "import math"
   ]
  },
  {
   "cell_type": "code",
   "execution_count": 3,
   "metadata": {},
   "outputs": [
    {
     "data": {
      "text/plain": [
       "4"
      ]
     },
     "execution_count": 3,
     "metadata": {},
     "output_type": "execute_result"
    }
   ],
   "source": [
    "math.ceil(3.14)"
   ]
  },
  {
   "cell_type": "code",
   "execution_count": 4,
   "metadata": {},
   "outputs": [
    {
     "data": {
      "text/plain": [
       "3"
      ]
     },
     "execution_count": 4,
     "metadata": {},
     "output_type": "execute_result"
    }
   ],
   "source": [
    "math.floor(3.14)"
   ]
  },
  {
   "cell_type": "code",
   "execution_count": 5,
   "metadata": {},
   "outputs": [
    {
     "data": {
      "text/plain": [
       "2.0"
      ]
     },
     "execution_count": 5,
     "metadata": {},
     "output_type": "execute_result"
    }
   ],
   "source": [
    "from math import sqrt, pi\n",
    "sqrt(4)"
   ]
  },
  {
   "cell_type": "code",
   "execution_count": 6,
   "metadata": {},
   "outputs": [
    {
     "name": "stdout",
     "output_type": "stream",
     "text": [
      "pi =  3.14\n",
      "반지름 =  4\n"
     ]
    },
    {
     "data": {
      "text/plain": [
       "25.12"
      ]
     },
     "execution_count": 6,
     "metadata": {},
     "output_type": "execute_result"
    }
   ],
   "source": [
    "import module_test\n",
    "\n",
    "module_test.circle(3.14, 4)"
   ]
  },
  {
   "cell_type": "code",
   "execution_count": 7,
   "metadata": {},
   "outputs": [
    {
     "data": {
      "text/plain": [
       "72"
      ]
     },
     "execution_count": 7,
     "metadata": {},
     "output_type": "execute_result"
    }
   ],
   "source": [
    "from module_test import *\n",
    "\n",
    "calculate_volume(3,4,6)"
   ]
  },
  {
   "cell_type": "code",
   "execution_count": null,
   "metadata": {},
   "outputs": [],
   "source": []
  }
 ],
 "metadata": {
  "kernelspec": {
   "display_name": "Python 3",
   "language": "python",
   "name": "python3"
  },
  "language_info": {
   "codemirror_mode": {
    "name": "ipython",
    "version": 3
   },
   "file_extension": ".py",
   "mimetype": "text/x-python",
   "name": "python",
   "nbconvert_exporter": "python",
   "pygments_lexer": "ipython3",
   "version": "3.7.3"
  }
 },
 "nbformat": 4,
 "nbformat_minor": 2
}
