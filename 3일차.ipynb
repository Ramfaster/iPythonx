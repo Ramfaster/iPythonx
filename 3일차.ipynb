{
 "cells": [
  {
   "cell_type": "code",
   "execution_count": 2,
   "metadata": {},
   "outputs": [
    {
     "name": "stdout",
     "output_type": "stream",
     "text": [
      "Guess a word : 223\n",
      "비밀번호 오류!  2 회 남았습니다.\n",
      "Guess a word : \n",
      "비밀번호 오류!  1 회 남았습니다.\n",
      "Guess a word : \n",
      "비밀번호 오류!  0 회 남았습니다.\n"
     ]
    }
   ],
   "source": [
    "GUESSES_ALLOWED = 3\n",
    "PASSWORD = 'caribou'\n",
    "\n",
    "input_left = GUESSES_ALLOWED\n",
    "input_password = None\n",
    "\n",
    "for i in range(GUESSES_ALLOWED):\n",
    "    input_password = input('Guess a word : ')\n",
    "    \n",
    "    if input_password == PASSWORD:\n",
    "        print('정상적으로 인증되었습니다.')\n",
    "    else:\n",
    "        input_left= input_left-1\n",
    "        print('비밀번호 오류! ', input_left, '회 남았습니다.')\n",
    "        "
   ]
  },
  {
   "cell_type": "code",
   "execution_count": 3,
   "metadata": {},
   "outputs": [
    {
     "name": "stdout",
     "output_type": "stream",
     "text": [
      "\n",
      "--- Default Order ---\n",
      "John, Bill and Sean\n",
      "\n",
      "--- Positional Order ---\n",
      " Bill, John and Sean \n",
      "\n",
      "--- Keyword Order ---\n",
      "Sean, Bill and John \n"
     ]
    }
   ],
   "source": [
    "# default(implicit) order\n",
    "default_order = \"{}, {} and {}\".format('John','Bill','Sean')\n",
    "print('\\n--- Default Order ---')\n",
    "print(default_order)\n",
    "\n",
    "# order using positional argument\n",
    "positional_order = \" {1}, {0} and {2} \".format('John','Bill','Sean')\n",
    "print('\\n--- Positional Order ---')\n",
    "print(positional_order)\n",
    "\n",
    "# order using keyword argument\n",
    "keyword_order = \"{s}, {b} and {j} \".format(j='John',b='Bill',s='Sean')\n",
    "print('\\n--- Keyword Order ---')\n",
    "print(keyword_order)"
   ]
  },
  {
   "cell_type": "code",
   "execution_count": 7,
   "metadata": {},
   "outputs": [
    {
     "name": "stdout",
     "output_type": "stream",
     "text": [
      "two same\n"
     ]
    }
   ],
   "source": [
    "def frequency_check (aL, bL):\n",
    "    square_first = []\n",
    "    for i in aL:\n",
    "        square_first.append(i**2)\n",
    "        \n",
    "    if square_first == bL:\n",
    "        print(\"two same\")\n",
    "    else:\n",
    "        print(\"unmatched\")\n",
    "        \n",
    "        \n",
    "frequency_check([1,2,3,2,5,6], [1,4,9,4,25,36])        "
   ]
  },
  {
   "cell_type": "code",
   "execution_count": 11,
   "metadata": {},
   "outputs": [
    {
     "data": {
      "text/plain": [
       "False"
      ]
     },
     "execution_count": 11,
     "metadata": {},
     "output_type": "execute_result"
    }
   ],
   "source": [
    "def sameFrequency(str1, str2):\n",
    "    if len(str1) != len(str2):\n",
    "        return False\n",
    "    else:\n",
    "        for s in str1:\n",
    "            if str1.count(s) != str2.count(s):\n",
    "                return False\n",
    "        return True\n",
    "    \n",
    "sameFrequency('1233', '3133')    "
   ]
  },
  {
   "cell_type": "code",
   "execution_count": 15,
   "metadata": {},
   "outputs": [
    {
     "name": "stdout",
     "output_type": "stream",
     "text": [
      "117000\n"
     ]
    }
   ],
   "source": [
    "price = {'a':4000, 'b':2000, 'c':1500, 'd':3000}\n",
    "stock = {'a':6, 'b':0, 'c':32, 'd':15}\n",
    "total_amount = 0\n",
    "\n",
    "for fruit, num in stock.items():\n",
    "    total_amount += price[fruit] * num\n",
    "    \n",
    "print(total_amount)"
   ]
  },
  {
   "cell_type": "code",
   "execution_count": 20,
   "metadata": {},
   "outputs": [
    {
     "name": "stdout",
     "output_type": "stream",
     "text": [
      "dog 가 뛰고 있다\n",
      "강아지가 두리번거리며 보고 있다.\n",
      "강아지가 짖는다\n",
      "test\n",
      "\n",
      "cat 가 뛰고 있다\n",
      "고양이가 조용히 본다\n",
      "고양이가 기자개를 한다\n"
     ]
    }
   ],
   "source": [
    "class Pet:\n",
    "    def __init__(self, name, age, kind):\n",
    "        self.name = name\n",
    "        self.age = age\n",
    "        self.kind = kind\n",
    "        \n",
    "    def running (self):\n",
    "        print('{} 가 뛰고 있다'.format(self.kind))\n",
    "        \n",
    "    def watching(self):\n",
    "        pass\n",
    "    \n",
    "class Dog(Pet):\n",
    "    def watching(self):\n",
    "        print('강아지가 두리번거리며 보고 있다.')\n",
    "    def barking(self):\n",
    "        print('강아지가 짖는다')\n",
    "    \n",
    "    @staticmethod\n",
    "    def test():\n",
    "        print('test')\n",
    "        \n",
    "class Cat(Pet):\n",
    "    def watching(self):\n",
    "        print('고양이가 조용히 본다')\n",
    "    def stretching(self):\n",
    "        print('고양이가 기자개를 한다')\n",
    "\n",
    "        \n",
    "dog = Dog('Doggy', 5, 'dog')\n",
    "dog.running()\n",
    "dog.watching()\n",
    "dog.barking()\n",
    "dog.test()\n",
    "print()\n",
    "cat = Cat('Mio', 1, 'cat')\n",
    "cat.running()\n",
    "cat.watching()\n",
    "cat.stretching()\n",
    "        "
   ]
  },
  {
   "cell_type": "code",
   "execution_count": 32,
   "metadata": {},
   "outputs": [
    {
     "name": "stdout",
     "output_type": "stream",
     "text": [
      "Tom 은 30 살 입니다\n",
      "Salary is unknown\n",
      "Jerry 은 33 살 입니다\n",
      "Salary is 10000\n"
     ]
    }
   ],
   "source": [
    "class Person:\n",
    "    def __init__(self, name, age):\n",
    "        self.name = name\n",
    "        self.age = age\n",
    "    def show_salary(self):\n",
    "        print(\"Salary is unknown\")\n",
    "        \n",
    "class Employee(Person):\n",
    "    def __init__(self,name,age,salary): #Person 의 __init__() override\n",
    "        super().__init__(name,age)      #Person 의 __init__() 내용을 상속\n",
    "        self.salary = salary\n",
    "    def show_salary(self):              #Person 의 show_salary() override\n",
    "        print('Salary is', self.salary)\n",
    "        \n",
    "A = Person('Tom',30)\n",
    "print('{} 은 {} 살 입니다'.format(A.name, A.age))\n",
    "A.show_salary()\n",
    "\n",
    "B = Employee('Jerry',33, 10000)\n",
    "print('{} 은 {} 살 입니다'.format(B.name, B.age))\n",
    "B.show_salary()"
   ]
  },
  {
   "cell_type": "code",
   "execution_count": 37,
   "metadata": {},
   "outputs": [
    {
     "name": "stdout",
     "output_type": "stream",
     "text": [
      "black\n",
      "앞으로 전진 : 시속 100 km\n",
      "뒤로 후진 : 시속 70 km\n",
      "white\n",
      "5000000\n",
      "시속 200 km 로 달리는 Volvo\n",
      "후진 불가\n"
     ]
    }
   ],
   "source": [
    "class Car:\n",
    "    def __init__(self, color='red', power=2000):\n",
    "        self.color = color\n",
    "        self.power = power\n",
    "        self.speed = 0\n",
    "\n",
    "    def forward(self, speed):\n",
    "        self.speed += speed\n",
    "        return '앞으로 전진 : 시속 {} km'.format(self.speed)\n",
    "\n",
    "    def backward(self):\n",
    "        pass\n",
    "\n",
    "class Sonata(Car):\n",
    "    def __init__(self, color, power, size):\n",
    "        super().__init__(color, power)\n",
    "        self.size = size\n",
    "\n",
    "    def backward(self, speed):\n",
    "        self.speed -= speed\n",
    "        return '뒤로 후진 : 시속 {} km'.format(self.speed)\n",
    "\n",
    "class Volvo(Car):\n",
    "    def __init__(self, color, power, size, price):\n",
    "        super().__init__(color, power)\n",
    "        self.size = size\n",
    "        self.price = price\n",
    "\n",
    "    def forward(self, speed):\n",
    "        self.speed = speed * 2\n",
    "        return \"시속 {} km 로 달리는 Volvo\".format(self.speed)\n",
    "\n",
    "    def backward(self):\n",
    "        return \"후진 불가\"\n",
    "\n",
    "sonata = Sonata('black', 1800, 5)\n",
    "volvo = Volvo('white', 2500, 7, 5000000)\n",
    "\n",
    "print(sonata.color)\n",
    "print(sonata.forward(100))\n",
    "print(sonata.backward(30))\n",
    "\n",
    "print(volvo.color)\n",
    "print(volvo.price)\n",
    "print(volvo.forward(100))\n",
    "print(volvo.backward())"
   ]
  },
  {
   "cell_type": "code",
   "execution_count": 38,
   "metadata": {},
   "outputs": [
    {
     "data": {
      "text/plain": [
       "{4, 5}"
      ]
     },
     "execution_count": 38,
     "metadata": {},
     "output_type": "execute_result"
    }
   ],
   "source": [
    "a = {1,2,3,4,5}\n",
    "b = {4,5,6,7,8}\n",
    "\n",
    "a&b"
   ]
  },
  {
   "cell_type": "code",
   "execution_count": 39,
   "metadata": {},
   "outputs": [
    {
     "data": {
      "text/plain": [
       "{4, 5}"
      ]
     },
     "execution_count": 39,
     "metadata": {},
     "output_type": "execute_result"
    }
   ],
   "source": [
    "a.intersection(b)"
   ]
  },
  {
   "cell_type": "code",
   "execution_count": 40,
   "metadata": {},
   "outputs": [
    {
     "data": {
      "text/plain": [
       "{1, 2, 3, 4, 5, 6, 7, 8}"
      ]
     },
     "execution_count": 40,
     "metadata": {},
     "output_type": "execute_result"
    }
   ],
   "source": [
    "a | b"
   ]
  },
  {
   "cell_type": "code",
   "execution_count": 42,
   "metadata": {},
   "outputs": [
    {
     "data": {
      "text/plain": [
       "{1, 2, 3, 4, 5, 6, 7, 8}"
      ]
     },
     "execution_count": 42,
     "metadata": {},
     "output_type": "execute_result"
    }
   ],
   "source": [
    "a.union(b)"
   ]
  },
  {
   "cell_type": "code",
   "execution_count": 43,
   "metadata": {},
   "outputs": [
    {
     "data": {
      "text/plain": [
       "{1, 2, 3}"
      ]
     },
     "execution_count": 43,
     "metadata": {},
     "output_type": "execute_result"
    }
   ],
   "source": [
    "a-b"
   ]
  },
  {
   "cell_type": "code",
   "execution_count": 45,
   "metadata": {},
   "outputs": [
    {
     "data": {
      "text/plain": [
       "{1, 2, 3}"
      ]
     },
     "execution_count": 45,
     "metadata": {},
     "output_type": "execute_result"
    }
   ],
   "source": [
    "a.difference(b)"
   ]
  },
  {
   "cell_type": "code",
   "execution_count": 46,
   "metadata": {},
   "outputs": [
    {
     "data": {
      "text/plain": [
       "{1, 3, 4, 5}"
      ]
     },
     "execution_count": 46,
     "metadata": {},
     "output_type": "execute_result"
    }
   ],
   "source": [
    "a.remove(2)\n",
    "a"
   ]
  },
  {
   "cell_type": "code",
   "execution_count": 47,
   "metadata": {},
   "outputs": [
    {
     "data": {
      "text/plain": [
       "{1, 3, 4, 5, 6}"
      ]
     },
     "execution_count": 47,
     "metadata": {},
     "output_type": "execute_result"
    }
   ],
   "source": [
    "a.add(6)\n",
    "a"
   ]
  },
  {
   "cell_type": "code",
   "execution_count": 48,
   "metadata": {},
   "outputs": [
    {
     "data": {
      "text/plain": [
       "{1, 2, 3, 4, 5}"
      ]
     },
     "execution_count": 48,
     "metadata": {},
     "output_type": "execute_result"
    }
   ],
   "source": [
    "A = {1,2}\n",
    "B = {3,4,5}\n",
    "U = A.union(B)\n",
    "U"
   ]
  },
  {
   "cell_type": "code",
   "execution_count": 49,
   "metadata": {},
   "outputs": [
    {
     "data": {
      "text/plain": [
       "{3, 4, 5}"
      ]
     },
     "execution_count": 49,
     "metadata": {},
     "output_type": "execute_result"
    }
   ],
   "source": [
    "AC = U.difference(A)\n",
    "AC"
   ]
  },
  {
   "cell_type": "code",
   "execution_count": 59,
   "metadata": {},
   "outputs": [
    {
     "name": "stdout",
     "output_type": "stream",
     "text": [
      "{'holder', 'coupon', 'likely', 'passport', 'banana', 'apple', 'everyone', 'you', 'watch', 'love', 'like', 'card'}\n",
      "{'banana', 'apple'}\n"
     ]
    }
   ],
   "source": [
    "doc1 = 'apple banana everyone like likely watch card holder'\n",
    "doc2 = 'apple banana coupon passport love you'\n",
    "\n",
    "tokenized_doc1 = doc1.split()\n",
    "tokenized_doc2 = doc2.split()\n",
    "\n",
    "u = set(tokenized_doc1).union(set(tokenized_doc2))\n",
    "print(u)\n",
    "\n",
    "inter = set(tokenized_doc1).intersection(set(tokenized_doc2))\n",
    "print(inter)"
   ]
  },
  {
   "cell_type": "code",
   "execution_count": 60,
   "metadata": {},
   "outputs": [
    {
     "name": "stdout",
     "output_type": "stream",
     "text": [
      "두문서간의 유사도는 0.17% 입니다\n"
     ]
    }
   ],
   "source": [
    "'''\n",
    "jarcard 유사도\n",
    "'''\n",
    "j = len(inter)/len(u)\n",
    "print('두문서간의 유사도는 {:.2f}% 입니다'.format(j))"
   ]
  },
  {
   "cell_type": "code",
   "execution_count": 63,
   "metadata": {},
   "outputs": [
    {
     "name": "stdout",
     "output_type": "stream",
     "text": [
      "1 2 3 4 5 6 7 8 9 10 "
     ]
    }
   ],
   "source": [
    "x=0\n",
    "while x < 10:\n",
    "    x += 1\n",
    "    print(x, end=' ')"
   ]
  },
  {
   "cell_type": "code",
   "execution_count": 64,
   "metadata": {},
   "outputs": [
    {
     "name": "stdout",
     "output_type": "stream",
     "text": [
      "1 2 3 4 5 6 7 8 9 10 "
     ]
    }
   ],
   "source": [
    "x=0\n",
    "for i in range(10):\n",
    "    x += 1\n",
    "    print(x, end=' ')"
   ]
  },
  {
   "cell_type": "code",
   "execution_count": 65,
   "metadata": {},
   "outputs": [
    {
     "name": "stdout",
     "output_type": "stream",
     "text": [
      "1 2 3 4 5 6 7 8 9 10 "
     ]
    }
   ],
   "source": [
    "x=0\n",
    "while True :\n",
    "    x +=1\n",
    "    print(x, end=' ')\n",
    "    if x >= 10:\n",
    "        break"
   ]
  },
  {
   "cell_type": "code",
   "execution_count": 1,
   "metadata": {},
   "outputs": [
    {
     "data": {
      "text/plain": [
       "4"
      ]
     },
     "execution_count": 1,
     "metadata": {},
     "output_type": "execute_result"
    }
   ],
   "source": [
    "'''\n",
    "유클리드 호제법 : 최대공약수 알고리즘\n",
    "'''\n",
    "def gcd(m,n):\n",
    "    while m%n != 0:\n",
    "#         r = m%n\n",
    "#         m = n\n",
    "#         n = r\n",
    "    \n",
    "      # pythonic way 한줄 코드\n",
    "        m,n = n,(m%n)\n",
    "    return n\n",
    "            \n",
    "gcd(44,12)"
   ]
  },
  {
   "cell_type": "code",
   "execution_count": 17,
   "metadata": {},
   "outputs": [
    {
     "name": "stdout",
     "output_type": "stream",
     "text": [
      "0\n"
     ]
    }
   ],
   "source": [
    "f = open('test.txt','w')\n",
    "f.write('This is file Write test\\n')\n",
    "f.write('Good monring\\n')\n",
    "f.write('대한민국 화이팅\\n')\n",
    "f.close()\n",
    "\n",
    "f = open('test.txt','r')\n",
    "print(f.tell())"
   ]
  },
  {
   "cell_type": "code",
   "execution_count": 18,
   "metadata": {},
   "outputs": [
    {
     "name": "stdout",
     "output_type": "stream",
     "text": [
      "This is file Write test\n",
      "Good monring\n",
      "대한민국 화이팅\n",
      "\n"
     ]
    }
   ],
   "source": [
    "text = f.read()\n",
    "print(text)\n",
    "#print(f.tell())"
   ]
  },
  {
   "cell_type": "code",
   "execution_count": 25,
   "metadata": {},
   "outputs": [
    {
     "name": "stdout",
     "output_type": "stream",
     "text": [
      "This is file Write test\n",
      "Good monring\n",
      "대한민국 화이팅\n"
     ]
    }
   ],
   "source": [
    "f = open('test.txt','r')\n",
    "lines = f.readlines()\n",
    "for line in lines:\n",
    "    print(line,end='')"
   ]
  },
  {
   "cell_type": "code",
   "execution_count": 22,
   "metadata": {},
   "outputs": [
    {
     "name": "stderr",
     "output_type": "stream",
     "text": [
      "file reading error: test2.txt"
     ]
    }
   ],
   "source": [
    "import sys\n",
    "file_name = 'test2.txt'\n",
    "\n",
    "try:\n",
    "    f = open(file_name, 'r')\n",
    "    text = f.read()\n",
    "    f.close()\n",
    "except IOError:\n",
    "    sys.stderr.write('file reading error: '+file_name)"
   ]
  },
  {
   "cell_type": "code",
   "execution_count": 26,
   "metadata": {},
   "outputs": [
    {
     "data": {
      "text/plain": [
       "['.ipynb_checkpoints',\n",
       " '.spyproject',\n",
       " '1일차.ipynb',\n",
       " '2일차.ipynb',\n",
       " '2일차_2.ipynb',\n",
       " '3일차.ipynb',\n",
       " 'boilerplate.py',\n",
       " 'exec1.ipynb',\n",
       " 'module_test.py',\n",
       " 'subfolder',\n",
       " 'test.txt',\n",
       " 'Untitled.ipynb',\n",
       " 'Untitled1.ipynb',\n",
       " '__pycache__']"
      ]
     },
     "execution_count": 26,
     "metadata": {},
     "output_type": "execute_result"
    }
   ],
   "source": [
    "import os\n",
    "os.listdir()"
   ]
  },
  {
   "cell_type": "code",
   "execution_count": 27,
   "metadata": {},
   "outputs": [
    {
     "name": "stdout",
     "output_type": "stream",
     "text": [
      " C 드라이브의 볼륨에는 이름이 없습니다.\n",
      " 볼륨 일련 번호: 10E3-A70B\n",
      "\n",
      " C:\\Users\\COM\\Desktop\\ramfasterPy 디렉터리\n",
      "\n",
      "2019-11-06  오후 01:33    <DIR>          .\n",
      "2019-11-06  오후 01:33    <DIR>          ..\n",
      "2019-11-06  오전 09:05    <DIR>          .ipynb_checkpoints\n",
      "2019-11-04  오전 10:20    <DIR>          .spyproject\n",
      "2019-11-04  오후 01:53            28,344 1일차.ipynb\n",
      "2019-11-05  오후 02:58            14,575 2일차.ipynb\n",
      "2019-11-05  오후 04:51             7,498 2일차_2.ipynb\n",
      "2019-11-06  오후 01:33            17,767 3일차.ipynb\n",
      "2019-11-05  오후 03:53               168 boilerplate.py\n",
      "2019-11-04  오전 11:29             3,114 exec1.ipynb\n",
      "2019-11-05  오후 03:08               287 module_test.py\n",
      "2019-11-05  오후 03:45    <DIR>          subfolder\n",
      "2019-11-06  오후 01:31                56 test.txt\n",
      "2019-11-05  오후 03:06               695 Untitled.ipynb\n",
      "2019-11-05  오후 03:06                72 Untitled1.ipynb\n",
      "2019-11-05  오후 03:53    <DIR>          __pycache__\n",
      "              10개 파일              72,576 바이트\n",
      "               6개 디렉터리  135,125,463,040 바이트 남음\n"
     ]
    }
   ],
   "source": [
    "!dir\n"
   ]
  },
  {
   "cell_type": "code",
   "execution_count": 34,
   "metadata": {},
   "outputs": [
    {
     "data": {
      "text/plain": [
       "'C:\\\\Users\\\\COM\\\\Desktop\\\\ramfasterPy\\\\template'"
      ]
     },
     "execution_count": 34,
     "metadata": {},
     "output_type": "execute_result"
    }
   ],
   "source": [
    "p = os.path.abspath('test.txt')  #test.txt 파일의 절대경로\n",
    "d = os.path.dirname(p)           #test.txt 파일 존재하는 디렉토리 경로\n",
    "os.path.join(d, 'template')    # 절대경로에 디렉토리 추가"
   ]
  },
  {
   "cell_type": "code",
   "execution_count": 29,
   "metadata": {},
   "outputs": [
    {
     "data": {
      "text/plain": [
       "['C:\\\\Users\\\\COM\\\\Desktop\\\\ramfasterPy',\n",
       " 'C:\\\\ProgramData\\\\Anaconda3\\\\python37.zip',\n",
       " 'C:\\\\ProgramData\\\\Anaconda3\\\\DLLs',\n",
       " 'C:\\\\ProgramData\\\\Anaconda3\\\\lib',\n",
       " 'C:\\\\ProgramData\\\\Anaconda3',\n",
       " '',\n",
       " 'C:\\\\ProgramData\\\\Anaconda3\\\\lib\\\\site-packages',\n",
       " 'C:\\\\ProgramData\\\\Anaconda3\\\\lib\\\\site-packages\\\\win32',\n",
       " 'C:\\\\ProgramData\\\\Anaconda3\\\\lib\\\\site-packages\\\\win32\\\\lib',\n",
       " 'C:\\\\ProgramData\\\\Anaconda3\\\\lib\\\\site-packages\\\\Pythonwin',\n",
       " 'C:\\\\ProgramData\\\\Anaconda3\\\\lib\\\\site-packages\\\\IPython\\\\extensions',\n",
       " 'C:\\\\Users\\\\COM\\\\.ipython']"
      ]
     },
     "execution_count": 29,
     "metadata": {},
     "output_type": "execute_result"
    }
   ],
   "source": [
    "sys.path"
   ]
  },
  {
   "cell_type": "code",
   "execution_count": 32,
   "metadata": {},
   "outputs": [
    {
     "data": {
      "text/plain": [
       "False"
      ]
     },
     "execution_count": 32,
     "metadata": {},
     "output_type": "execute_result"
    }
   ],
   "source": [
    "os.path.exists('test1.txt')"
   ]
  },
  {
   "cell_type": "code",
   "execution_count": 37,
   "metadata": {},
   "outputs": [
    {
     "name": "stdout",
     "output_type": "stream",
     "text": [
      "['This is file Write test\\n', 'Good monring\\n', '대한민국 화이팅\\n', 'appended text']\n"
     ]
    }
   ],
   "source": [
    "# close() 함수 쓰지않아도 with 구문 자체적으로 파일 close 함\n",
    "\n",
    "with open('test.txt', 'a') as file2:\n",
    "    file2.write('appended text')\n",
    "    \n",
    "with open('test.txt', 'r') as file3:\n",
    "    data = file3.readlines()\n",
    "    \n",
    "print(data)\n",
    "\n",
    "    \n",
    "    "
   ]
  },
  {
   "cell_type": "code",
   "execution_count": 38,
   "metadata": {},
   "outputs": [
    {
     "data": {
      "text/plain": [
       "'<!doctype html><html itemscope=\"\" itemtype=\"http://schema.org/WebPage\" lang=\"ko\"><head><meta content=\"text/html; charset=UTF-8\" http-equiv=\"Content-Type\"><meta content=\"/images/branding/googleg/1x/googleg_standard_color_128dp.png\" itemprop=\"image\"><title>Google</title><script nonce=\"YZKLd7S0oguvtpzBlXWu+w==\">(function(){window.google={kEI:\\'5lTCXYSGBJfv-Qbcy6XgDQ\\',kEXPI:\\'0,18167,1335579,5663,730,224,510,18,1047,3152,377,207,1017,53,2134,10,713,338,96,110,8,43,282,926,15,34,460,4,1130488,143,1197724,425,19,302794,26305,1294,12383,4855,32692,15247,861,28690,369,3314,5505,2442,5942,1119,2,204,375,727,2432,1361,4323,4967,774,2253,4741,2904,214,6196,1719,1808,1976,2044,8909,1900,3397,2016,38,622,298,873,1217,1710,1,1264,2736,3061,2,631,3240,414,7652,2883,19,320,4147,1,369,2777,921,990,1285,8,2796,885,82,601,11,14,1279,2212,202,323,5,1252,840,324,193,1474,48,820,3438,260,52,1137,2,2063,606,817,1022,184,595,1182,520,553,1394,747,429,44,1009,93,204,126,1282,16,84,417,2426,847,792,607,474,1339,7'"
      ]
     },
     "execution_count": 38,
     "metadata": {},
     "output_type": "execute_result"
    }
   ],
   "source": [
    "import requests\n",
    "source = requests.get('http://www.google.com')\n",
    "html = source.text\n",
    "html[:1000]"
   ]
  },
  {
   "cell_type": "code",
   "execution_count": 41,
   "metadata": {},
   "outputs": [
    {
     "name": "stdout",
     "output_type": "stream",
     "text": [
      "\"한국소프트웨어 산업협회 훈련과장:\n",
      "알고리즘을 배우는 Python\"\n"
     ]
    }
   ],
   "source": [
    "with open('test3.txt','w') as tmp:\n",
    "    tmp.write('\\\"한국소프트웨어 산업협회 훈련과장:\\n알고리즘을 배우는 Python\"')\n",
    "\n",
    "with open('test3.txt', 'r') as tmp1:\n",
    "    line = tmp1.read()\n",
    "    \n",
    "print(line)"
   ]
  },
  {
   "cell_type": "code",
   "execution_count": 45,
   "metadata": {},
   "outputs": [
    {
     "data": {
      "text/plain": [
       "<re.Match object; span=(11, 19), match='word:cat'>"
      ]
     },
     "execution_count": 45,
     "metadata": {},
     "output_type": "execute_result"
    }
   ],
   "source": [
    "import re\n",
    "str = 'an example word:cat!!!'\n",
    "match = re.search(r'word:\\w\\w\\w', str)\n",
    "match"
   ]
  },
  {
   "cell_type": "code",
   "execution_count": 51,
   "metadata": {},
   "outputs": [
    {
     "name": "stdout",
     "output_type": "stream",
     "text": [
      "032 232 3245\n"
     ]
    }
   ],
   "source": [
    "test = '문의있으면 032-232-3245 로 연락바람'\n",
    "\n",
    "regex = re.compile(r'(\\d{3})-(\\d{3})-(\\d{4})')\n",
    "match = regex.search(test)\n",
    "\n",
    "match\n",
    "area = match.group(1)\n",
    "gug = match.group(2)\n",
    "num = match.group(3)\n",
    "print(area, gug, num)"
   ]
  },
  {
   "cell_type": "code",
   "execution_count": 53,
   "metadata": {},
   "outputs": [
    {
     "data": {
      "text/plain": [
       "<re.Match object; span=(6, 18), match='032-232-3245'>"
      ]
     },
     "execution_count": 53,
     "metadata": {},
     "output_type": "execute_result"
    }
   ],
   "source": [
    "re.search(r'(\\d{3})-(\\d{3})-(\\d{4})',test)"
   ]
  },
  {
   "cell_type": "code",
   "execution_count": 60,
   "metadata": {},
   "outputs": [
    {
     "data": {
      "text/plain": [
       "<re.Match object; span=(4, 7), match='12g'>"
      ]
     },
     "execution_count": 60,
     "metadata": {},
     "output_type": "execute_result"
    }
   ],
   "source": [
    "re.search(r'12g','aaaa12gdddd')"
   ]
  },
  {
   "cell_type": "code",
   "execution_count": 63,
   "metadata": {},
   "outputs": [
    {
     "data": {
      "text/plain": [
       "<re.Match object; span=(16, 19), match='ii9'>"
      ]
     },
     "execution_count": 63,
     "metadata": {},
     "output_type": "execute_result"
    }
   ],
   "source": [
    "re.search(r'ii\\d','sdkjflsdjflsjdddii9dsdfas')"
   ]
  },
  {
   "cell_type": "code",
   "execution_count": 65,
   "metadata": {},
   "outputs": [],
   "source": [
    "match = re.search(r'..g', 'adgddf')"
   ]
  },
  {
   "cell_type": "code",
   "execution_count": 67,
   "metadata": {},
   "outputs": [
    {
     "data": {
      "text/plain": [
       "'p'"
      ]
     },
     "execution_count": 67,
     "metadata": {},
     "output_type": "execute_result"
    }
   ],
   "source": [
    "match = re.search(r'pi*', 'pg')\n",
    "match.group()"
   ]
  },
  {
   "cell_type": "code",
   "execution_count": 81,
   "metadata": {},
   "outputs": [
    {
     "name": "stdout",
     "output_type": "stream",
     "text": [
      "1001shipl.kim@hanwha.com\n",
      "1001shipl.kim\n",
      "hanwha.com\n"
     ]
    }
   ],
   "source": [
    "str = 'Please send me email to 1001shipl.kim@hanwha.com with your return address'\n",
    "\n",
    "#match = re.search(r'[\\w.-]+@[\\w.-]+',str)\n",
    "#match.group()\n",
    "match = re.search(r'([\\w.-]+)@([\\w.-]+)',str)\n",
    "print(match.group())\n",
    "print(match.group(1))\n",
    "print(match.group(2))"
   ]
  },
  {
   "cell_type": "code",
   "execution_count": 82,
   "metadata": {},
   "outputs": [
    {
     "data": {
      "text/plain": [
       "['12g', '12g']"
      ]
     },
     "execution_count": 82,
     "metadata": {},
     "output_type": "execute_result"
    }
   ],
   "source": [
    "re.findall(r'\\d\\d\\w','p12gabc12g')\n"
   ]
  },
  {
   "cell_type": "code",
   "execution_count": 86,
   "metadata": {},
   "outputs": [
    {
     "data": {
      "text/plain": [
       "['1001ship@hanwha.com', 'ㅇㅇㅇㅇ@naver.com입니다.', 'help@tetst.com']"
      ]
     },
     "execution_count": 86,
     "metadata": {},
     "output_type": "execute_result"
    }
   ],
   "source": [
    "str = '메인 이멜 주소는 1001ship@hanwha.com 이고 보조 이메리 주소 ㅇㅇㅇㅇ@naver.com입니다. 문의는 help@tetst.com 으로 보내세요'\n",
    "match = re.findall(r'[\\w.-]+@[\\w.-]+',str)\n",
    "match"
   ]
  },
  {
   "cell_type": "code",
   "execution_count": 90,
   "metadata": {},
   "outputs": [
    {
     "data": {
      "text/plain": [
       "[('1001ship', 'hanwha.com'), ('ㅇㅇㅇㅇ', 'naver.com입니다.'), ('help', 'tetst.com')]"
      ]
     },
     "execution_count": 90,
     "metadata": {},
     "output_type": "execute_result"
    }
   ],
   "source": [
    "str = '메인 이멜 주소는 1001ship@hanwha.com 이고 보조 이메리 주소 ㅇㅇㅇㅇ@naver.com입니다. 문의는 help@tetst.com 으로 보내세요'\n",
    "match = re.findall(r'([\\w.-]+)@([\\w.-]+)',str)\n",
    "match"
   ]
  },
  {
   "cell_type": "code",
   "execution_count": 95,
   "metadata": {},
   "outputs": [
    {
     "data": {
      "text/plain": [
       "'Johnny Depp as Tarrant Hightopp / Mad Hatter:[8] Wasikowska said that the characters \"both feel like outsiders and feel alone in their separate worlds, and have a special bond and friendship.\"[9][10] Burton explained that Depp \"tried to find a grounding to the character … as opposed to just being mad.\"[11] Burton also said that \"[i]n a lot of versions it\\'s a very one-note kind of character and you know [Depp\\'s] goal was to try and bring out a human side to the strangeness of the character.\"[11] The orange hair is an allusion to the mercury poisoning suffered by hatters who used mercury to cure felt; Depp believes that the character \"was poisoned … and it was coming out through his hair, through his fingernails and eyes\".[12] Depp and Burton decided that the Hatter\\'s clothes, skin, hair, personality and accent would change throughout the film to reflect his emotions.[13] In an interview with Depp, the character was paralleled to \"a mood ring, [as] his emotions are very close to the surface\".[14] The Hatter is \"made up of different people and their extreme sides\", with a gentle voice much like the character\\'s creator Lewis Carroll reflecting the lighter personality and with a Scottish Glaswegian accent (which Depp modeled after Gregor Fisher\\'s Rab C. Nesbitt character) reflecting a darker, more dangerous personality.[15] Illusionary dancer David \"Elsewhere\" Bernal doubled for Depp during the \"Futterwacken\" sequence near the end of the film.[16]'"
      ]
     },
     "execution_count": 95,
     "metadata": {},
     "output_type": "execute_result"
    }
   ],
   "source": [
    "text = \"\"\"Johnny Depp as Tarrant Hightopp / Mad Hatter:[8] Wasikowska said that the characters \"both feel like outsiders and feel alone in their separate worlds, and have a special bond and friendship.\"[9][10] Burton explained that Depp \"tried to find a grounding to the character … as opposed to just being mad.\"[11] Burton also said that \"[i]n a lot of versions it's a very one-note kind of character and you know [Depp's] goal was to try and bring out a human side to the strangeness of the character.\"[11] The orange hair is an allusion to the mercury poisoning suffered by hatters who used mercury to cure felt; Depp believes that the character \"was poisoned … and it was coming out through his hair, through his fingernails and eyes\".[12] Depp and Burton decided that the Hatter's clothes, skin, hair, personality and accent would change throughout the film to reflect his emotions.[13] In an interview with Depp, the character was paralleled to \"a mood ring, [as] his emotions are very close to the surface\".[14] The Hatter is \"made up of different people and their extreme sides\", with a gentle voice much like the character's creator Lewis Carroll reflecting the lighter personality and with a Scottish Glaswegian accent (which Depp modeled after Gregor Fisher's Rab C. Nesbitt character) reflecting a darker, more dangerous personality.[15] Illusionary dancer David \"Elsewhere\" Bernal doubled for Depp during the \"Futterwacken\" sequence near the end of the film.[16]\"\"\"\n",
    "text\n"
   ]
  },
  {
   "cell_type": "code",
   "execution_count": 94,
   "metadata": {},
   "outputs": [
    {
     "data": {
      "text/plain": [
       "'Johnny Depp as Tarrant Hightopp / Mad Hatter: Wasikowska said that the characters \"both feel like outsiders and feel alone in their separate worlds, and have a special bond and friendship.\" Burton explained that Depp \"tried to find a grounding to the character … as opposed to just being mad.\" Burton also said that \"[i]n a lot of versions it\\'s a very one-note kind of character and you know [Depp\\'s] goal was to try and bring out a human side to the strangeness of the character.\" The orange hair is an allusion to the mercury poisoning suffered by hatters who used mercury to cure felt; Depp believes that the character \"was poisoned … and it was coming out through his hair, through his fingernails and eyes\". Depp and Burton decided that the Hatter\\'s clothes, skin, hair, personality and accent would change throughout the film to reflect his emotions. In an interview with Depp, the character was paralleled to \"a mood ring, [as] his emotions are very close to the surface\". The Hatter is \"made up of different people and their extreme sides\", with a gentle voice much like the character\\'s creator Lewis Carroll reflecting the lighter personality and with a Scottish Glaswegian accent (which Depp modeled after Gregor Fisher\\'s Rab C. Nesbitt character) reflecting a darker, more dangerous personality. Illusionary dancer David \"Elsewhere\" Bernal doubled for Depp during the \"Futterwacken\" sequence near the end of the film.'"
      ]
     },
     "execution_count": 94,
     "metadata": {},
     "output_type": "execute_result"
    }
   ],
   "source": [
    "text1 = re.sub(r'\\[\\d+\\]','', text)\n",
    "text1"
   ]
  },
  {
   "cell_type": "code",
   "execution_count": 99,
   "metadata": {},
   "outputs": [
    {
     "data": {
      "text/plain": [
       "'Johnny Depp as Tarrant Hightopp   Mad Hatter  8  Wasikowska said that the characters  both feel like outsiders and feel alone in their separate worlds  and have a special bond and friendship   9  10  Burton explained that Depp  tried to find a grounding to the character   as opposed to just being mad   11  Burton also said that   i n a lot of versions it s a very one note kind of character and you know  Depp s  goal was to try and bring out a human side to the strangeness of the character   11  The orange hair is an allusion to the mercury poisoning suffered by hatters who used mercury to cure felt  Depp believes that the character  was poisoned   and it was coming out through his hair  through his fingernails and eyes   12  Depp and Burton decided that the Hatter s clothes  skin  hair  personality and accent would change throughout the film to reflect his emotions  13  In an interview with Depp  the character was paralleled to  a mood ring   as  his emotions are very close to the surface   14  The Hatter is  made up of different people and their extreme sides   with a gentle voice much like the character s creator Lewis Carroll reflecting the lighter personality and with a Scottish Glaswegian accent  which Depp modeled after Gregor Fisher s Rab C  Nesbitt character  reflecting a darker  more dangerous personality  15  Illusionary dancer David  Elsewhere  Bernal doubled for Depp during the  Futterwacken  sequence near the end of the film  16 '"
      ]
     },
     "execution_count": 99,
     "metadata": {},
     "output_type": "execute_result"
    }
   ],
   "source": [
    "text2 = re.sub(r'[^a-zA-Z0-9]',' ', text)\n",
    "text2"
   ]
  },
  {
   "cell_type": "code",
   "execution_count": 100,
   "metadata": {},
   "outputs": [
    {
     "ename": "SyntaxError",
     "evalue": "invalid syntax (<ipython-input-100-8670c7df05c5>, line 1)",
     "output_type": "error",
     "traceback": [
      "\u001b[1;36m  File \u001b[1;32m\"<ipython-input-100-8670c7df05c5>\"\u001b[1;36m, line \u001b[1;32m1\u001b[0m\n\u001b[1;33m    os.chdir(./babynames)\u001b[0m\n\u001b[1;37m             ^\u001b[0m\n\u001b[1;31mSyntaxError\u001b[0m\u001b[1;31m:\u001b[0m invalid syntax\n"
     ]
    }
   ],
   "source": [
    "os.chdir('./babynames')\n"
   ]
  },
  {
   "cell_type": "code",
   "execution_count": 101,
   "metadata": {},
   "outputs": [
    {
     "name": "stdout",
     "output_type": "stream",
     "text": [
      "3628800\n"
     ]
    }
   ],
   "source": [
    "#1. for loop 사용\n",
    "n = 10\n",
    "nn = 1\n",
    "for i in range(1, n+1):\n",
    "    nn *= i\n",
    "    \n",
    "print(nn)    "
   ]
  },
  {
   "cell_type": "code",
   "execution_count": 102,
   "metadata": {},
   "outputs": [
    {
     "data": {
      "text/plain": [
       "3628800"
      ]
     },
     "execution_count": 102,
     "metadata": {},
     "output_type": "execute_result"
    }
   ],
   "source": [
    "#2. recursive method\n",
    "def factorial(n):\n",
    "    if(n == 1):\n",
    "        return 1\n",
    "    return n * factorial(n-1)\n",
    "\n",
    "factorial(10)"
   ]
  },
  {
   "cell_type": "code",
   "execution_count": null,
   "metadata": {},
   "outputs": [],
   "source": []
  }
 ],
 "metadata": {
  "kernelspec": {
   "display_name": "Python 3",
   "language": "python",
   "name": "python3"
  },
  "language_info": {
   "codemirror_mode": {
    "name": "ipython",
    "version": 3
   },
   "file_extension": ".py",
   "mimetype": "text/x-python",
   "name": "python",
   "nbconvert_exporter": "python",
   "pygments_lexer": "ipython3",
   "version": "3.7.3"
  }
 },
 "nbformat": 4,
 "nbformat_minor": 2
}
