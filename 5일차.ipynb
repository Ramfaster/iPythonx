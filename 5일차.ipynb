{
 "cells": [
  {
   "cell_type": "code",
   "execution_count": 2,
   "metadata": {},
   "outputs": [
    {
     "data": {
      "text/plain": [
       "[5, 6, 7, 8, 10, 12, 14, 16, 15, 18, 21, 24, 20, 24, 28, 32]"
      ]
     },
     "execution_count": 2,
     "metadata": {},
     "output_type": "execute_result"
    }
   ],
   "source": [
    "#두개의 list 를 빠짐 없이 element 별로 곱하여 새로운 list 생성\n",
    "alist = [1, 2, 3, 4]\n",
    "blist = [5, 6, 7, 8]\n",
    "\n",
    "result = []\n",
    "\n",
    "for a in alist:\n",
    "    for b in blist:\n",
    "        result.append(a * b)\n",
    "        \n",
    "result"
   ]
  },
  {
   "cell_type": "code",
   "execution_count": 9,
   "metadata": {},
   "outputs": [
    {
     "data": {
      "text/plain": [
       "[5, 6, 7, 8, 10, 12, 14, 16, 15, 18, 21, 24, 20, 24, 28, 32]"
      ]
     },
     "execution_count": 9,
     "metadata": {},
     "output_type": "execute_result"
    }
   ],
   "source": [
    "alist = [1, 2, 3, 4]\n",
    "blist = [5, 6, 7, 8]\n",
    "\n",
    "result = [(x*y) for x in alist for y in blist]\n",
    "result "
   ]
  },
  {
   "cell_type": "code",
   "execution_count": 10,
   "metadata": {},
   "outputs": [
    {
     "name": "stdout",
     "output_type": "stream",
     "text": [
      "{0: '몽키', 1: '선샤인', 2: '시와', 3: '톰'}\n"
     ]
    }
   ],
   "source": [
    "# 번호를 key로 갖고 이름을 value로 가지는 dictionary 만들기\n",
    "students = ['몽키', '선샤인', '시와', '톰']\n",
    "students_dic = {}\n",
    "\n",
    "for i, name in enumerate(students):\n",
    "    students_dic[i] = name\n",
    "\n",
    "print(students_dic)"
   ]
  },
  {
   "cell_type": "code",
   "execution_count": 11,
   "metadata": {},
   "outputs": [
    {
     "name": "stdout",
     "output_type": "stream",
     "text": [
      "{0: '몽키', 1: '선샤인', 2: '시와', 3: '톰'}\n"
     ]
    }
   ],
   "source": [
    "lc_dict = {i: name for i, name in enumerate(students)}\n",
    "\n",
    "print(lc_dict)"
   ]
  },
  {
   "cell_type": "code",
   "execution_count": 23,
   "metadata": {},
   "outputs": [
    {
     "name": "stdout",
     "output_type": "stream",
     "text": [
      "{'몽키': 85, '선샤인': 92, '시와': 78, '톰': 100}\n"
     ]
    }
   ],
   "source": [
    "# zip 을 활용하여 두개의 list 를 key, value 로 dictionary 만들기\n",
    "students = ['몽키', '선샤인', '시와', '톰']\n",
    "scores = [85, 92, 78, 100]\n",
    "\n",
    "score_dic = {name : i for name, i in zip(students,scores)}\n",
    "\n",
    "print(score_dic)\n",
    "\n"
   ]
  },
  {
   "cell_type": "code",
   "execution_count": 24,
   "metadata": {},
   "outputs": [
    {
     "name": "stdout",
     "output_type": "stream",
     "text": [
      "[50, 156, 270, 392, 522]\n"
     ]
    }
   ],
   "source": [
    "#1~10 사이 홀수를 50~60 사이 짝수와 곱한 숫자들의 list 생성\n",
    "result = []\n",
    "alist = []\n",
    "blist = []\n",
    "\n",
    "for i in range(1, 11):\n",
    "    if i % 2 == 1:\n",
    "        alist.append(i)\n",
    "for i in range(50, 61):\n",
    "    if i % 2 == 0:\n",
    "        blist.append(i)\n",
    "        \n",
    "for a, b in zip(alist, blist):\n",
    "    result.append(a * b)\n",
    "    \n",
    "print(result)"
   ]
  },
  {
   "cell_type": "code",
   "execution_count": 29,
   "metadata": {},
   "outputs": [
    {
     "data": {
      "text/plain": [
       "[50, 52, 54, 56, 58, 60]"
      ]
     },
     "execution_count": 29,
     "metadata": {},
     "output_type": "execute_result"
    }
   ],
   "source": [
    "list(filter(lambda x:x%2 == 1, range(1,11))) #1~10 사이 홀수\n",
    "list(filter(lambda x:x%2 == 0, range(50,61))) #50~60 사이 짝수"
   ]
  },
  {
   "cell_type": "code",
   "execution_count": 28,
   "metadata": {},
   "outputs": [
    {
     "name": "stdout",
     "output_type": "stream",
     "text": [
      "[50, 156, 270, 392, 522]\n"
     ]
    }
   ],
   "source": [
    "#map, filter, lambda 를 이용하여 위 문제 해결\n",
    "c = map(lambda x, y: x*y, filter(lambda x:x%2 == 1, range(1,11)), filter(lambda x:x%2 == 0, range(50,61)))\n",
    "print(list(c))"
   ]
  },
  {
   "cell_type": "code",
   "execution_count": 35,
   "metadata": {},
   "outputs": [
    {
     "name": "stdout",
     "output_type": "stream",
     "text": [
      "[50, 156, 270, 392, 522]\n"
     ]
    }
   ],
   "source": [
    "#List Comprehension 을 사용하여 해결\n",
    "print([x * y for x, y in zip([x for x in range(1,11) if x%2==1],[y for y in range(50,61) if y%2==0])])"
   ]
  },
  {
   "cell_type": "code",
   "execution_count": 50,
   "metadata": {},
   "outputs": [],
   "source": [
    "# 피보나치 알고리즘\n",
    "\n",
    "# 1.일반적인 재귀호출 법\n",
    "def flb(n):\n",
    "    if n in (1,2):\n",
    "        return 1\n",
    "    return flb(n-1) + flb(n-2)"
   ]
  },
  {
   "cell_type": "code",
   "execution_count": 51,
   "metadata": {},
   "outputs": [
    {
     "name": "stdout",
     "output_type": "stream",
     "text": [
      "525 ms ± 1.27 ms per loop (mean ± std. dev. of 7 runs, 1 loop each)\n"
     ]
    }
   ],
   "source": [
    "%timeit flb(32)"
   ]
  },
  {
   "cell_type": "code",
   "execution_count": 52,
   "metadata": {},
   "outputs": [],
   "source": [
    "# 2.Memoization (메모이제이션)\n",
    "\n",
    "memo = dict()\n",
    "\n",
    "def flb2(n):\n",
    "    if n in memo:\n",
    "        return memo[n]\n",
    "    \n",
    "    if n in (1,2):\n",
    "        memo[n] = 1\n",
    "        return 1\n",
    "    \n",
    "    result = flb2(n-1) + flb2(n-2)\n",
    "    \n",
    "    memo[n] = result\n",
    "    \n",
    "    return result\n",
    "\n",
    "#print(flb2(64))"
   ]
  },
  {
   "cell_type": "code",
   "execution_count": 53,
   "metadata": {},
   "outputs": [
    {
     "name": "stdout",
     "output_type": "stream",
     "text": [
      "132 ns ± 0.269 ns per loop (mean ± std. dev. of 7 runs, 10000000 loops each)\n"
     ]
    }
   ],
   "source": [
    "%timeit (flb2(32))"
   ]
  },
  {
   "cell_type": "code",
   "execution_count": 54,
   "metadata": {},
   "outputs": [
    {
     "name": "stdout",
     "output_type": "stream",
     "text": [
      "10\n"
     ]
    }
   ],
   "source": [
    "# 이항 계수 알고리즘 : 주어진 크기의 (순서 없는) 조합의 가짓수\n",
    " \n",
    "# 1. 일반적인 점화식 표현\n",
    "def bino(n,k):\n",
    "    if k==0 or k==n:\n",
    "        return 1\n",
    "    return bino(n-1,k-1) + bino(n-1,k)\n",
    "\n",
    "print(bino(5,3))"
   ]
  },
  {
   "cell_type": "code",
   "execution_count": 65,
   "metadata": {},
   "outputs": [],
   "source": [
    "# 2. Memoization (메모이제이션)\n",
    "\n",
    "memo = {}\n",
    "\n",
    "def bino2(n,k):\n",
    "    cache = [[0 for _ in range(k+1)] for _ in range(n+1)]  #2차원배열\n",
    "\n",
    "    for i in range(n+1):\n",
    "        cache[i][0] = 1   # n개 중 하나도 안뽑는 경우의 수 = 1\n",
    "    for i in range(k+1):\n",
    "        cache[i][i] = 1   # k 개중 k 개를 뽑는 경우의 수 = 1\n",
    "\n",
    "    for i in range(1, n+1):\n",
    "        for j in range(1, k+1):\n",
    "            cache[i][j] = cache[i-1][j-1] + cache[i-1][j]\n",
    "    return cache[n][k]\n",
    "\n",
    "#print(bino2(5,3))"
   ]
  },
  {
   "cell_type": "code",
   "execution_count": 63,
   "metadata": {},
   "outputs": [
    {
     "name": "stdout",
     "output_type": "stream",
     "text": [
      "8.26 s ± 15 ms per loop (mean ± std. dev. of 7 runs, 1 loop each)\n"
     ]
    }
   ],
   "source": [
    "%timeit bino(30,20)"
   ]
  },
  {
   "cell_type": "code",
   "execution_count": 66,
   "metadata": {},
   "outputs": [
    {
     "name": "stdout",
     "output_type": "stream",
     "text": [
      "145 µs ± 279 ns per loop (mean ± std. dev. of 7 runs, 10000 loops each)\n"
     ]
    }
   ],
   "source": [
    "%timeit bino2(30,20)"
   ]
  },
  {
   "cell_type": "code",
   "execution_count": 78,
   "metadata": {},
   "outputs": [
    {
     "data": {
      "text/plain": [
       "5"
      ]
     },
     "execution_count": 78,
     "metadata": {},
     "output_type": "execute_result"
    }
   ],
   "source": [
    "arr = [45,9,5,1,345,566,23.455,84,120]\n",
    "len(arr)"
   ]
  },
  {
   "cell_type": "code",
   "execution_count": 76,
   "metadata": {},
   "outputs": [
    {
     "data": {
      "text/plain": [
       "[0, 1, 5, 9, 45]"
      ]
     },
     "execution_count": 76,
     "metadata": {},
     "output_type": "execute_result"
    }
   ],
   "source": [
    "# 버블정렬 알고리즘\n",
    "def bubble_sort(arr):\n",
    "    for i in range(len(arr)):\n",
    "        for j in range(len(arr)-1-i):   #j 와 j+1 을 비교하므로 -1 을 해준다\n",
    "            if arr[j] > arr[j+1]:        # compare and swap\n",
    "                arr[j], arr[j+1] = arr[j+1], arr[j]\n",
    "                \n",
    "    return arr\n",
    "\n",
    "bubble_sort(arr)"
   ]
  },
  {
   "cell_type": "code",
   "execution_count": 2,
   "metadata": {},
   "outputs": [],
   "source": [
    "# selection sort 알고리즘\n",
    "import random\n",
    "def selection_sort(arrb):\n",
    "    for i in range(len(arrb)-1, 0, -1):\n",
    "        maxidx = 0\n",
    "        for j in range(i+1):\n",
    "            if arrb[j] > arrb[maxidx]:\n",
    "                maxidx = j\n",
    "        arrb[j], arrb[maxidx] = arrb[maxidx], arrb[i]\n",
    "    return arrb\n",
    "\n",
    "selection_sort([random.randrange(1,100) for _ in range(100)])"
   ]
  },
  {
   "cell_type": "code",
   "execution_count": 15,
   "metadata": {},
   "outputs": [
    {
     "data": {
      "text/plain": [
       "[1, 2, 3, 4, 5, 5, 7, 8, 8, 9]"
      ]
     },
     "execution_count": 15,
     "metadata": {},
     "output_type": "execute_result"
    }
   ],
   "source": [
    "# merge sort 알고리즘\n",
    "def merge_sort(arrc):\n",
    "    if len (arrc) == 1:\n",
    "        return arrc\n",
    "    \n",
    "    leftRtn = arrc[:int(len(arrc)/2)]\n",
    "    rightRtn = arrc[int(len(arrc)/2):]\n",
    "    \n",
    "    leftRtn = merge_sort(leftRtn)\n",
    "    rightRtn = merge_sort(rightRtn)\n",
    "    \n",
    "    c = []\n",
    "    i = 0\n",
    "    j = 0\n",
    "    \n",
    "    while i < len(leftRtn) and j < len(rightRtn):\n",
    "        if leftRtn[i] < rightRtn[j]:\n",
    "            c.append(leftRtn[i])\n",
    "            i += 1\n",
    "        else:\n",
    "            c.append(rightRtn[j])\n",
    "            j += 1\n",
    "    \n",
    "    c += leftRtn[i:]\n",
    "    c += rightRtn[j:]\n",
    "    return c\n",
    "       \n",
    "    \n",
    "merge_sort([random.randrange(1,10) for _ in range(10)])"
   ]
  },
  {
   "cell_type": "code",
   "execution_count": 18,
   "metadata": {},
   "outputs": [
    {
     "data": {
      "text/plain": [
       "[8942]"
      ]
     },
     "execution_count": 18,
     "metadata": {},
     "output_type": "execute_result"
    }
   ],
   "source": [
    "# quick sort 알고리즘\n",
    "\n",
    "def qsort(qlist):\n",
    "    lower = []\n",
    "    higher = []\n",
    "    sorted_list = []\n",
    "    \n",
    "    if len(qlist) < 1:\n",
    "        return  # None returned\n",
    "    \n",
    "    center = qlist[0]  # pivot 을 정함\n",
    "    \n",
    "    for element in qlist[1:]:    # pivot 보다 작으면 lower 에 크련 higher 에 append\n",
    "        if element <= center:\n",
    "            lower.append(element)\n",
    "        else:\n",
    "            higher.append(element)\n",
    "            \n",
    "        lower = qsort(lower)   #재귀 호출\n",
    "        \n",
    "        if lower != None: #이미 sort 된 lower 부분이 return 되므로 단순히 concatenate\n",
    "            sorted_list += lower\n",
    "        \n",
    "        sorted_list.append(center)  # pivot (중간) element 를 append\n",
    "        \n",
    "        higher = qsort(higher) # 이미 sort 된 higher 부분이 return 되므로 단순히 concatenate\n",
    "        if higher != None:\n",
    "            sorted_list += higher\n",
    "            \n",
    "        return sorted_list   #concatenate 된 list 반환\n",
    "    \n",
    "\n",
    "qsort([random.randrange(1,10000) for _ in range(10000)])"
   ]
  },
  {
   "cell_type": "code",
   "execution_count": 21,
   "metadata": {},
   "outputs": [],
   "source": [
    "# sample file 생성\n",
    "\n",
    "f = open('test4.txt','w')\n",
    "f.write('4번째 압축 파일')\n",
    "f.close()"
   ]
  },
  {
   "cell_type": "code",
   "execution_count": 27,
   "metadata": {},
   "outputs": [],
   "source": [
    "import zipfile\n",
    "\n",
    "compressed = zipfile.ZipFile('compressed.zip', 'w')  #zip object 생성\n",
    "\n",
    "compressed.write('test.txt')"
   ]
  },
  {
   "cell_type": "code",
   "execution_count": 31,
   "metadata": {},
   "outputs": [],
   "source": [
    "compressed.write('test4.txt')"
   ]
  },
  {
   "cell_type": "code",
   "execution_count": 34,
   "metadata": {},
   "outputs": [
    {
     "name": "stdout",
     "output_type": "stream",
     "text": [
      "<__main__.Asset object at 0x00000000060DDBE0>\n",
      "1\n",
      "3\n",
      "5\n",
      "7\n"
     ]
    }
   ],
   "source": [
    "# Python 를 이용한 Graph 구현\n",
    "\n",
    "# __iter__ : iterable object 반환\n",
    "class Asset:\n",
    "    def __init__(self, values=None):\n",
    "        if values is None:\n",
    "            self.values = []\n",
    "        else:\n",
    "            self.values = values\n",
    "    \n",
    "    def __iter__(self):\n",
    "        return iter(self.values)\n",
    "    \n",
    "a = Asset([1,3,5,7])\n",
    "\n",
    "print(a) \n",
    "\n",
    "for n in a:\n",
    "    print(n)"
   ]
  },
  {
   "cell_type": "code",
   "execution_count": 48,
   "metadata": {},
   "outputs": [],
   "source": [
    "class Graph:\n",
    "    def __init__(self):\n",
    "        self.adjList = {}  #인접한 이웃 node List\n",
    "    \n",
    "    def __iter__(self):\n",
    "        return iter(self.adjList.items()) #인접한 이웃 node list iterable object 반환\n",
    "    \n",
    "    def add_vertex(self, vertex): #정점 (=Node) 추가\n",
    "        if not vertex in self.adjList:\n",
    "            self.adjList[vertex] = []   #새로이 추가된 node 에는 아직 edge 가 없음\n",
    "            \n",
    "    def add_edge(self, v1, v2, weight):  # 새로운 Edge 추가 (이웃 node 와 가중치)\n",
    "        self.adjList[v1].append({'node':v2, 'weight':weight})\n",
    "        self.adjList[v2].append({'node':v1, 'weight':weight})"
   ]
  },
  {
   "cell_type": "code",
   "execution_count": 54,
   "metadata": {},
   "outputs": [
    {
     "name": "stdout",
     "output_type": "stream",
     "text": [
      "('a', [{'node': 'b', 'weight': 7}, {'node': 'c', 'weight': 9}, {'node': 'f', 'weight': 14}])\n",
      "('b', [{'node': 'a', 'weight': 7}, {'node': 'c', 'weight': 10}, {'node': 'd', 'weight': 15}])\n",
      "('c', [{'node': 'a', 'weight': 9}, {'node': 'b', 'weight': 10}, {'node': 'd', 'weight': 11}, {'node': 'f', 'weight': 2}])\n",
      "('d', [{'node': 'b', 'weight': 15}, {'node': 'c', 'weight': 11}, {'node': 'e', 'weight': 6}])\n",
      "('e', [{'node': 'd', 'weight': 6}, {'node': 'f', 'weight': 9}])\n",
      "('f', [{'node': 'a', 'weight': 14}, {'node': 'c', 'weight': 2}, {'node': 'e', 'weight': 9}])\n"
     ]
    }
   ],
   "source": [
    "g = Graph()\n",
    "\n",
    "g.add_vertex('a')\n",
    "g.add_vertex('b')\n",
    "g.add_vertex('c')\n",
    "g.add_vertex('d')\n",
    "g.add_vertex('e')\n",
    "g.add_vertex('f')\n",
    "\n",
    "g.add_edge('a','b',7)\n",
    "g.add_edge('a','c',9)\n",
    "g.add_edge('a','f',14)\n",
    "g.add_edge('b','c',10)\n",
    "g.add_edge('b','d',15)\n",
    "g.add_edge('c','d',11)\n",
    "g.add_edge('c','f',2)\n",
    "g.add_edge('d','e',6)\n",
    "g.add_edge('e','f',9)\n",
    "\n",
    "for node in g:\n",
    "    print(node)\n"
   ]
  },
  {
   "cell_type": "code",
   "execution_count": 40,
   "metadata": {},
   "outputs": [],
   "source": [
    "import networkx as nx\n",
    "import matplotlib"
   ]
  },
  {
   "cell_type": "code",
   "execution_count": 52,
   "metadata": {
    "scrolled": true
   },
   "outputs": [
    {
     "data": {
      "image/png": "[encoded data removed]",
      "text/plain": [
       "<Figure size 432x288 with 1 Axes>"
      ]
     },
     "metadata": {},
     "output_type": "display_data"
    }
   ],
   "source": [
    "g = nx.Graph()\n",
    "\n",
    "g.add_edge('a','b')\n",
    "g.add_edge('a','c')\n",
    "g.add_edge('a','f')\n",
    "g.add_edge('b','c')\n",
    "g.add_edge('b','d')\n",
    "g.add_edge('c','d')\n",
    "g.add_edge('c','f')\n",
    "g.add_edge('d','e')\n",
    "g.add_edge('e','f')\n",
    "\n",
    "nx.draw(g, with_labels=True)"
   ]
  },
  {
   "cell_type": "code",
   "execution_count": 84,
   "metadata": {},
   "outputs": [],
   "source": [
    "def connect(a,b,c):\n",
    "    q = []\n",
    "    def dist(x,y):\n",
    "        for n in g.adjList[x]:\n",
    "            print(n['node'])\n",
    "            \n",
    "    return dist(a,b) + dist(b,c)"
   ]
  },
  {
   "cell_type": "code",
   "execution_count": 85,
   "metadata": {},
   "outputs": [
    {
     "name": "stdout",
     "output_type": "stream",
     "text": [
      "b\n",
      "c\n",
      "f\n",
      "a\n",
      "c\n",
      "d\n"
     ]
    },
    {
     "ename": "TypeError",
     "evalue": "unsupported operand type(s) for +: 'NoneType' and 'NoneType'",
     "output_type": "error",
     "traceback": [
      "\u001b[1;31m---------------------------------------------------------------------------\u001b[0m",
      "\u001b[1;31mTypeError\u001b[0m                                 Traceback (most recent call last)",
      "\u001b[1;32m<ipython-input-85-1a4b12f76ed1>\u001b[0m in \u001b[0;36m<module>\u001b[1;34m\u001b[0m\n\u001b[1;32m----> 1\u001b[1;33m \u001b[0mconnect\u001b[0m\u001b[1;33m(\u001b[0m\u001b[1;34m'a'\u001b[0m\u001b[1;33m,\u001b[0m\u001b[1;34m'b'\u001b[0m\u001b[1;33m,\u001b[0m\u001b[1;34m'c'\u001b[0m\u001b[1;33m)\u001b[0m\u001b[1;33m\u001b[0m\u001b[1;33m\u001b[0m\u001b[0m\n\u001b[0m",
      "\u001b[1;32m<ipython-input-84-cbf5470652e7>\u001b[0m in \u001b[0;36mconnect\u001b[1;34m(a, b, c)\u001b[0m\n\u001b[0;32m      5\u001b[0m             \u001b[0mprint\u001b[0m\u001b[1;33m(\u001b[0m\u001b[0mn\u001b[0m\u001b[1;33m[\u001b[0m\u001b[1;34m'node'\u001b[0m\u001b[1;33m]\u001b[0m\u001b[1;33m)\u001b[0m\u001b[1;33m\u001b[0m\u001b[1;33m\u001b[0m\u001b[0m\n\u001b[0;32m      6\u001b[0m \u001b[1;33m\u001b[0m\u001b[0m\n\u001b[1;32m----> 7\u001b[1;33m     \u001b[1;32mreturn\u001b[0m \u001b[0mdist\u001b[0m\u001b[1;33m(\u001b[0m\u001b[0ma\u001b[0m\u001b[1;33m,\u001b[0m\u001b[0mb\u001b[0m\u001b[1;33m)\u001b[0m \u001b[1;33m+\u001b[0m \u001b[0mdist\u001b[0m\u001b[1;33m(\u001b[0m\u001b[0mb\u001b[0m\u001b[1;33m,\u001b[0m\u001b[0mc\u001b[0m\u001b[1;33m)\u001b[0m\u001b[1;33m\u001b[0m\u001b[1;33m\u001b[0m\u001b[0m\n\u001b[0m",
      "\u001b[1;31mTypeError\u001b[0m: unsupported operand type(s) for +: 'NoneType' and 'NoneType'"
     ]
    }
   ],
   "source": [
    "connect('a','b','c')"
   ]
  },
  {
   "cell_type": "code",
   "execution_count": null,
   "metadata": {},
   "outputs": [],
   "source": []
  }
 ],
 "metadata": {
  "kernelspec": {
   "display_name": "Python 3",
   "language": "python",
   "name": "python3"
  },
  "language_info": {
   "codemirror_mode": {
    "name": "ipython",
    "version": 3
   },
   "file_extension": ".py",
   "mimetype": "text/x-python",
   "name": "python",
   "nbconvert_exporter": "python",
   "pygments_lexer": "ipython3",
   "version": "3.7.3"
  }
 },
 "nbformat": 4,
 "nbformat_minor": 2
}
