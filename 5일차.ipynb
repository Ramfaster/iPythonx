{
 "cells": [
  {
   "cell_type": "code",
   "execution_count": 2,
   "metadata": {},
   "outputs": [
    {
     "data": {
      "text/plain": [
       "[5, 6, 7, 8, 10, 12, 14, 16, 15, 18, 21, 24, 20, 24, 28, 32]"
      ]
     },
     "execution_count": 2,
     "metadata": {},
     "output_type": "execute_result"
    }
   ],
   "source": [
    "#두개의 list 를 빠짐 없이 element 별로 곱하여 새로운 list 생성\n",
    "alist = [1, 2, 3, 4]\n",
    "blist = [5, 6, 7, 8]\n",
    "\n",
    "result = []\n",
    "\n",
    "for a in alist:\n",
    "    for b in blist:\n",
    "        result.append(a * b)\n",
    "        \n",
    "result"
   ]
  },
  {
   "cell_type": "code",
   "execution_count": 9,
   "metadata": {},
   "outputs": [
    {
     "data": {
      "text/plain": [
       "[5, 6, 7, 8, 10, 12, 14, 16, 15, 18, 21, 24, 20, 24, 28, 32]"
      ]
     },
     "execution_count": 9,
     "metadata": {},
     "output_type": "execute_result"
    }
   ],
   "source": [
    "alist = [1, 2, 3, 4]\n",
    "blist = [5, 6, 7, 8]\n",
    "\n",
    "result = [(x*y) for x in alist for y in blist]\n",
    "result "
   ]
  },
  {
   "cell_type": "code",
   "execution_count": 10,
   "metadata": {},
   "outputs": [
    {
     "name": "stdout",
     "output_type": "stream",
     "text": [
      "{0: '몽키', 1: '선샤인', 2: '시와', 3: '톰'}\n"
     ]
    }
   ],
   "source": [
    "# 번호를 key로 갖고 이름을 value로 가지는 dictionary 만들기\n",
    "students = ['몽키', '선샤인', '시와', '톰']\n",
    "students_dic = {}\n",
    "\n",
    "for i, name in enumerate(students):\n",
    "    students_dic[i] = name\n",
    "\n",
    "print(students_dic)"
   ]
  },
  {
   "cell_type": "code",
   "execution_count": 11,
   "metadata": {},
   "outputs": [
    {
     "name": "stdout",
     "output_type": "stream",
     "text": [
      "{0: '몽키', 1: '선샤인', 2: '시와', 3: '톰'}\n"
     ]
    }
   ],
   "source": [
    "lc_dict = {i: name for i, name in enumerate(students)}\n",
    "\n",
    "print(lc_dict)"
   ]
  },
  {
   "cell_type": "code",
   "execution_count": 23,
   "metadata": {},
   "outputs": [
    {
     "name": "stdout",
     "output_type": "stream",
     "text": [
      "{'몽키': 85, '선샤인': 92, '시와': 78, '톰': 100}\n"
     ]
    }
   ],
   "source": [
    "# zip 을 활용하여 두개의 list 를 key, value 로 dictionary 만들기\n",
    "students = ['몽키', '선샤인', '시와', '톰']\n",
    "scores = [85, 92, 78, 100]\n",
    "\n",
    "score_dic = {name : i for name, i in zip(students,scores)}\n",
    "\n",
    "print(score_dic)\n",
    "\n"
   ]
  },
  {
   "cell_type": "code",
   "execution_count": 24,
   "metadata": {},
   "outputs": [
    {
     "name": "stdout",
     "output_type": "stream",
     "text": [
      "[50, 156, 270, 392, 522]\n"
     ]
    }
   ],
   "source": [
    "#1~10 사이 홀수를 50~60 사이 짝수와 곱한 숫자들의 list 생성\n",
    "result = []\n",
    "alist = []\n",
    "blist = []\n",
    "\n",
    "for i in range(1, 11):\n",
    "    if i % 2 == 1:\n",
    "        alist.append(i)\n",
    "for i in range(50, 61):\n",
    "    if i % 2 == 0:\n",
    "        blist.append(i)\n",
    "        \n",
    "for a, b in zip(alist, blist):\n",
    "    result.append(a * b)\n",
    "    \n",
    "print(result)"
   ]
  },
  {
   "cell_type": "code",
   "execution_count": 29,
   "metadata": {},
   "outputs": [
    {
     "data": {
      "text/plain": [
       "[50, 52, 54, 56, 58, 60]"
      ]
     },
     "execution_count": 29,
     "metadata": {},
     "output_type": "execute_result"
    }
   ],
   "source": [
    "list(filter(lambda x:x%2 == 1, range(1,11))) #1~10 사이 홀수\n",
    "list(filter(lambda x:x%2 == 0, range(50,61))) #50~60 사이 짝수"
   ]
  },
  {
   "cell_type": "code",
   "execution_count": 28,
   "metadata": {},
   "outputs": [
    {
     "name": "stdout",
     "output_type": "stream",
     "text": [
      "[50, 156, 270, 392, 522]\n"
     ]
    }
   ],
   "source": [
    "#map, filter, lambda 를 이용하여 위 문제 해결\n",
    "c = map(lambda x, y: x*y, filter(lambda x:x%2 == 1, range(1,11)), filter(lambda x:x%2 == 0, range(50,61)))\n",
    "print(list(c))"
   ]
  },
  {
   "cell_type": "code",
   "execution_count": 35,
   "metadata": {},
   "outputs": [
    {
     "name": "stdout",
     "output_type": "stream",
     "text": [
      "[50, 156, 270, 392, 522]\n"
     ]
    }
   ],
   "source": [
    "#List Comprehension 을 사용하여 해결\n",
    "print([x * y for x, y in zip([x for x in range(1,11) if x%2==1],[y for y in range(50,61) if y%2==0])])"
   ]
  },
  {
   "cell_type": "code",
   "execution_count": 50,
   "metadata": {},
   "outputs": [],
   "source": [
    "# 피보나치 알고리즘\n",
    "\n",
    "# 1.일반적인 재귀호출 법\n",
    "def flb(n):\n",
    "    if n in (1,2):\n",
    "        return 1\n",
    "    return flb(n-1) + flb(n-2)"
   ]
  },
  {
   "cell_type": "code",
   "execution_count": 51,
   "metadata": {},
   "outputs": [
    {
     "name": "stdout",
     "output_type": "stream",
     "text": [
      "525 ms ± 1.27 ms per loop (mean ± std. dev. of 7 runs, 1 loop each)\n"
     ]
    }
   ],
   "source": [
    "%timeit flb(32)"
   ]
  },
  {
   "cell_type": "code",
   "execution_count": 52,
   "metadata": {},
   "outputs": [],
   "source": [
    "# 2.Memoization (메모이제이션)\n",
    "\n",
    "memo = dict()\n",
    "\n",
    "def flb2(n):\n",
    "    if n in memo:\n",
    "        return memo[n]\n",
    "    \n",
    "    if n in (1,2):\n",
    "        memo[n] = 1\n",
    "        return 1\n",
    "    \n",
    "    result = flb2(n-1) + flb2(n-2)\n",
    "    \n",
    "    memo[n] = result\n",
    "    \n",
    "    return result\n",
    "\n",
    "#print(flb2(64))"
   ]
  },
  {
   "cell_type": "code",
   "execution_count": 53,
   "metadata": {},
   "outputs": [
    {
     "name": "stdout",
     "output_type": "stream",
     "text": [
      "132 ns ± 0.269 ns per loop (mean ± std. dev. of 7 runs, 10000000 loops each)\n"
     ]
    }
   ],
   "source": [
    "%timeit (flb2(32))"
   ]
  },
  {
   "cell_type": "code",
   "execution_count": 54,
   "metadata": {},
   "outputs": [
    {
     "name": "stdout",
     "output_type": "stream",
     "text": [
      "10\n"
     ]
    }
   ],
   "source": [
    "# 이항 계수 알고리즘 : 주어진 크기의 (순서 없는) 조합의 가짓수\n",
    " \n",
    "# 1. 일반적인 점화식 표현\n",
    "def bino(n,k):\n",
    "    if k==0 or k==n:\n",
    "        return 1\n",
    "    return bino(n-1,k-1) + bino(n-1,k)\n",
    "\n",
    "print(bino(5,3))"
   ]
  },
  {
   "cell_type": "code",
   "execution_count": 65,
   "metadata": {},
   "outputs": [],
   "source": [
    "# 2. Memoization (메모이제이션)\n",
    "\n",
    "memo = {}\n",
    "\n",
    "def bino2(n,k):\n",
    "    cache = [[0 for _ in range(k+1)] for _ in range(n+1)]  #2차원배열\n",
    "\n",
    "    for i in range(n+1):\n",
    "        cache[i][0] = 1   # n개 중 하나도 안뽑는 경우의 수 = 1\n",
    "    for i in range(k+1):\n",
    "        cache[i][i] = 1   # k 개중 k 개를 뽑는 경우의 수 = 1\n",
    "\n",
    "    for i in range(1, n+1):\n",
    "        for j in range(1, k+1):\n",
    "            cache[i][j] = cache[i-1][j-1] + cache[i-1][j]\n",
    "    return cache[n][k]\n",
    "\n",
    "#print(bino2(5,3))"
   ]
  },
  {
   "cell_type": "code",
   "execution_count": 63,
   "metadata": {},
   "outputs": [
    {
     "name": "stdout",
     "output_type": "stream",
     "text": [
      "8.26 s ± 15 ms per loop (mean ± std. dev. of 7 runs, 1 loop each)\n"
     ]
    }
   ],
   "source": [
    "%timeit bino(30,20)"
   ]
  },
  {
   "cell_type": "code",
   "execution_count": 66,
   "metadata": {},
   "outputs": [
    {
     "name": "stdout",
     "output_type": "stream",
     "text": [
      "145 µs ± 279 ns per loop (mean ± std. dev. of 7 runs, 10000 loops each)\n"
     ]
    }
   ],
   "source": [
    "%timeit bino2(30,20)"
   ]
  },
  {
   "cell_type": "code",
   "execution_count": 78,
   "metadata": {},
   "outputs": [
    {
     "data": {
      "text/plain": [
       "5"
      ]
     },
     "execution_count": 78,
     "metadata": {},
     "output_type": "execute_result"
    }
   ],
   "source": [
    "arr = [45,9,5,1,345,566,23.455,84,120]\n",
    "len(arr)"
   ]
  },
  {
   "cell_type": "code",
   "execution_count": 76,
   "metadata": {},
   "outputs": [
    {
     "data": {
      "text/plain": [
       "[0, 1, 5, 9, 45]"
      ]
     },
     "execution_count": 76,
     "metadata": {},
     "output_type": "execute_result"
    }
   ],
   "source": [
    "# 버블정렬 알고리즘\n",
    "def bubble_sort(arr):\n",
    "    for i in range(len(arr)):\n",
    "        for j in range(len(arr)-1-i):   #j 와 j+1 을 비교하므로 -1 을 해준다\n",
    "            if arr[j] > arr[j+1]:        # compare and swap\n",
    "                arr[j], arr[j+1] = arr[j+1], arr[j]\n",
    "                \n",
    "    return arr\n",
    "\n",
    "bubble_sort(arr)"
   ]
  },
  {
   "cell_type": "code",
   "execution_count": 2,
   "metadata": {},
   "outputs": [],
   "source": [
    "# selection sort 알고리즘\n",
    "import random\n",
    "def selection_sort(arrb):\n",
    "    for i in range(len(arrb)-1, 0, -1):\n",
    "        maxidx = 0\n",
    "        for j in range(i+1):\n",
    "            if arrb[j] > arrb[maxidx]:\n",
    "                maxidx = j\n",
    "        arrb[j], arrb[maxidx] = arrb[maxidx], arrb[i]\n",
    "    return arrb\n",
    "\n",
    "selection_sort([random.randrange(1,100) for _ in range(100)])"
   ]
  },
  {
   "cell_type": "code",
   "execution_count": 13,
   "metadata": {},
   "outputs": [
    {
     "data": {
      "text/plain": [
       "[1, 1, 2, 3, 6, 6, 7, 8, 8, 8]"
      ]
     },
     "execution_count": 13,
     "metadata": {},
     "output_type": "execute_result"
    }
   ],
   "source": [
    "# merge sort 알고리즘\n",
    "def merge_sort(arrc):\n",
    "    if len (arrc) == 1:\n",
    "        return arrc\n",
    "    \n",
    "    leftRtn = arrc[:int(len(arrc)/2)]\n",
    "    rightRtn = arrc[int(len(arrc)/2):]\n",
    "    \n",
    "    leftRtn = merge_sort(leftRtn)\n",
    "    rightRtn = merge_sort(rightRtn)\n",
    "    \n",
    "    c = []\n",
    "    i = 0\n",
    "    j = 0\n",
    "    \n",
    "    while i < len(leftRtn) and j < len(rightRtn):\n",
    "        if leftRtn[i] < rightRtn[j]:\n",
    "            c.append(leftRtn[i])\n",
    "            i += 1\n",
    "        else:\n",
    "            c.append(rightRtn[j])\n",
    "            j += 1\n",
    "    \n",
    "    c += leftRtn[i:]\n",
    "    c += rightRtn[j:]\n",
    "    return c\n",
    "       \n",
    "    \n",
    "merge_sort([random.randrange(1,10) for _ in range(10)])"
   ]
  },
  {
   "cell_type": "code",
   "execution_count": null,
   "metadata": {},
   "outputs": [],
   "source": []
  }
 ],
 "metadata": {
  "kernelspec": {
   "display_name": "Python 3",
   "language": "python",
   "name": "python3"
  },
  "language_info": {
   "codemirror_mode": {
    "name": "ipython",
    "version": 3
   },
   "file_extension": ".py",
   "mimetype": "text/x-python",
   "name": "python",
   "nbconvert_exporter": "python",
   "pygments_lexer": "ipython3",
   "version": "3.7.3"
  }
 },
 "nbformat": 4,
 "nbformat_minor": 2
}
