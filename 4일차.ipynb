{
 "cells": [
  {
   "cell_type": "code",
   "execution_count": 41,
   "metadata": {},
   "outputs": [],
   "source": [
    "# Stack : LIFO\n",
    "class Stack:\n",
    "    def __init__(self):\n",
    "        self.stack = []\n",
    "        \n",
    "    def pop(self):\n",
    "        if len(self.stack) < 1:\n",
    "            return None\n",
    "        return self.stack.pop()\n",
    "    \n",
    "    def push(self,item):\n",
    "        self.stack.append(item)\n",
    "        \n",
    "    def size(self):\n",
    "        ln = len(self.stack)\n",
    "        return ln\n",
    "   \n",
    "stack = Stack()\n",
    "stack.push('a')\n",
    "stack.push('b')\n",
    "stack.pop()\n",
    "stack.size()"
   ]
  },
  {
   "cell_type": "code",
   "execution_count": null,
   "metadata": {},
   "outputs": [],
   "source": [
    "# Queue : FIFO\n",
    "class Queue:\n",
    "    def __init__(self):\n",
    "        self.queue = []\n",
    "        \n",
    "    def dequeue(self):\n",
    "        if len(self.queue) < 1:\n",
    "            return None\n",
    "        return self.queue.pop(0)\n",
    "    \n",
    "    def enqueue(self,item):\n",
    "        self.queue.append(item)\n",
    "        \n",
    "    def size(self):\n",
    "        ln = len(self.queue)\n",
    "        print(ln)\n",
    "   \n",
    "queue = Queue()\n",
    "queue.enqueue('a')\n",
    "queue.enqueue('b')\n",
    "queue.enqueue('x')\n",
    "queue.dequeue()"
   ]
  },
  {
   "cell_type": "markdown",
   "metadata": {},
   "source": [
    "try:\n",
    "    num = int(input(\"숫자입력 :\" ))\n",
    "    print(num)\n",
    "except ValueError:\n",
    "    print(\"숫자가 아님\")    "
   ]
  },
  {
   "cell_type": "code",
   "execution_count": 43,
   "metadata": {},
   "outputs": [
    {
     "name": "stdout",
     "output_type": "stream",
     "text": [
      "파일 목록 및 크기\n",
      ".git                          4096.00 MB\n",
      ".ipynb_checkpoints            4096.00 MB\n",
      ".spyproject                   4096.00 MB\n",
      "1일차.ipynb                     28344.00 MB\n",
      "2일차.ipynb                     14575.00 MB\n",
      "2일차_2.ipynb                   7498.00 MB\n",
      "3일차.ipynb                     37181.00 MB\n",
      "4일차.ipynb                     3598.00 MB\n",
      "babynames                     4096.00 MB\n",
      "babynames.py                  515.00 MB\n",
      "boilerplate.py                168.00 MB\n",
      "exec1.ipynb                   3114.00 MB\n",
      "module_test.py                287.00 MB\n",
      "practice.py                   379.00 MB\n",
      "subfolder                     4096.00 MB\n",
      "test.txt                      69.00 MB\n",
      "test3.txt                     61.00 MB\n",
      "Untitled.ipynb                695.00 MB\n",
      "Untitled1.ipynb               72.00 MB\n",
      "__pycache__                   0.00 MB\n"
     ]
    }
   ],
   "source": [
    "import os\n",
    "print('파일 목록 및 크기')\n",
    "for file in os.listdir():\n",
    "    print(\"{:30}{:.2f} MB\".format(file, os.path.getsize(file)))"
   ]
  },
  {
   "cell_type": "code",
   "execution_count": 44,
   "metadata": {},
   "outputs": [
    {
     "name": "stdout",
     "output_type": "stream",
     "text": [
      "[1, 2, 3, 4, 5, 6, 7]\n"
     ]
    }
   ],
   "source": [
    "def flatten_list(alist, flatten_result=None):\n",
    "    \n",
    "    if flatten_result is None:\n",
    "        flatten_result = []\n",
    "    \n",
    "    for a in alist:\n",
    "        if isinstance (a, list):\n",
    "            flatten_list(a, flatten_result)\n",
    "        else:\n",
    "            flatten_result.append(a)\n",
    "\n",
    "    return flatten_result\n",
    "\n",
    "print(flatten_list ([[1,2,[3,4]],[5,6],7]))"
   ]
  },
  {
   "cell_type": "code",
   "execution_count": 65,
   "metadata": {},
   "outputs": [
    {
     "data": {
      "text/plain": [
       "'나는 Python 프로그래밍을 할 수 있습니다.'"
      ]
     },
     "execution_count": 65,
     "metadata": {},
     "output_type": "execute_result"
    }
   ],
   "source": [
    "#1. 재귀적 방법\n",
    "\n",
    "def recursive(strn):\n",
    "    if not strn:\n",
    "        return ''\n",
    "    else:\n",
    "        return strn[-1] + recursive(strn[:-1])\n",
    "\n",
    "recursive('.다니습있 수 할 을밍래그로프 nohtyP 는나')    \n"
   ]
  },
  {
   "cell_type": "code",
   "execution_count": null,
   "metadata": {},
   "outputs": [],
   "source": []
  },
  {
   "cell_type": "code",
   "execution_count": 66,
   "metadata": {},
   "outputs": [
    {
     "data": {
      "text/plain": [
       "'나는 Python 프로그래밍을 할 수 있습니다.'"
      ]
     },
     "execution_count": 66,
     "metadata": {},
     "output_type": "execute_result"
    }
   ],
   "source": [
    "#3. pythonic way\n",
    "string = '.다니습있 수 할 을밍래그로프 nohtyP 는나'\n",
    "string[::-1]"
   ]
  },
  {
   "cell_type": "code",
   "execution_count": 70,
   "metadata": {},
   "outputs": [
    {
     "name": "stdout",
     "output_type": "stream",
     "text": [
      "123\n"
     ]
    }
   ],
   "source": [
    "'''\n",
    "First Class Citizen(일급시민)\n",
    "- 변수에 담을 수 있다\n",
    "- 인자(Parameger)로 전달할 수 있다\n",
    "- return 값으로 반환할 수 있다\n",
    "'''\n",
    "def first_class(a):\n",
    "    print(a)\n",
    "    \n",
    "val = first_class\n",
    "val(123)"
   ]
  },
  {
   "cell_type": "code",
   "execution_count": 73,
   "metadata": {},
   "outputs": [
    {
     "data": {
      "text/plain": [
       "13"
      ]
     },
     "execution_count": 73,
     "metadata": {},
     "output_type": "execute_result"
    }
   ],
   "source": [
    "'''\n",
    "lambda\n",
    "- python 의 함수 생성방법은 def 와 lambda 두 가지가 있다.\n",
    "- lambda 는 익명(anonymous)함수 이다\n",
    "- 한번 사용할 간단한 함수인 경우 사용\n",
    "'''\n",
    "def sum(x,y):\n",
    "    return x+y\n",
    "\n",
    "#sum(1,12)\n",
    "(lambda x, y: x + y)(1,12)"
   ]
  },
  {
   "cell_type": "code",
   "execution_count": 74,
   "metadata": {},
   "outputs": [
    {
     "name": "stdout",
     "output_type": "stream",
     "text": [
      "64\n"
     ]
    }
   ],
   "source": [
    "g = lambda x:x**2\n",
    "print(g(8))"
   ]
  },
  {
   "cell_type": "code",
   "execution_count": 76,
   "metadata": {},
   "outputs": [
    {
     "data": {
      "text/plain": [
       "10"
      ]
     },
     "execution_count": 76,
     "metadata": {},
     "output_type": "execute_result"
    }
   ],
   "source": [
    "f = (lambda x, y : x + y)\n",
    "f(4,6)"
   ]
  },
  {
   "cell_type": "code",
   "execution_count": 78,
   "metadata": {},
   "outputs": [
    {
     "name": "stdout",
     "output_type": "stream",
     "text": [
      "5\n",
      "7\n"
     ]
    }
   ],
   "source": [
    "'''\n",
    "lambda 를 closure 로 사용\n",
    "'''\n",
    "def inc(n):\n",
    "    return lambda x:x+n\n",
    "\n",
    "add2 = inc(2)\n",
    "print(add2(3))\n",
    "\n",
    "add4 = inc(4)\n",
    "print(add4(3))"
   ]
  },
  {
   "cell_type": "code",
   "execution_count": 95,
   "metadata": {},
   "outputs": [],
   "source": [
    "# def square(x):\n",
    "#     return x*x\n",
    "\n",
    "# list(map(square, [1, 2, 3, 4, 5]))\n",
    "\n",
    "# map?\n",
    "list(map(lambda x: x*x, [1, 2, 3, 4, 5]))"
   ]
  },
  {
   "cell_type": "code",
   "execution_count": 87,
   "metadata": {},
   "outputs": [
    {
     "data": {
      "text/plain": [
       "[18, 14, 14, 14]"
      ]
     },
     "execution_count": 87,
     "metadata": {},
     "output_type": "execute_result"
    }
   ],
   "source": [
    "a = [1, 2, 3, 4]\n",
    "b = [17, 12, 11, 10]\n",
    "\n",
    "list(map(lambda x, y: x+y, a, b))"
   ]
  },
  {
   "cell_type": "code",
   "execution_count": 90,
   "metadata": {},
   "outputs": [
    {
     "data": {
      "text/plain": [
       "[6, 7, 8, 9]"
      ]
     },
     "execution_count": 90,
     "metadata": {},
     "output_type": "execute_result"
    }
   ],
   "source": [
    "# def test(x):\n",
    "#     if x > 5:\n",
    "#         return x\n",
    "#     else:\n",
    "#         return None\n",
    "    \n",
    "# list(filter(test, [1, 2, 3, 4, 5, 6, 7, 8, 9]))\n",
    "\n",
    "#filter?\n",
    "\n",
    "list(filter(lambda x: x > 5 , [1, 2, 3, 4, 5, 6, 7, 8, 9]))"
   ]
  },
  {
   "cell_type": "code",
   "execution_count": 91,
   "metadata": {},
   "outputs": [
    {
     "data": {
      "text/plain": [
       "['김갑돌', '김성환']"
      ]
     },
     "execution_count": 91,
     "metadata": {},
     "output_type": "execute_result"
    }
   ],
   "source": [
    "list(filter(lambda x: x.startswith('김'), ['김갑돌', '김성환', '오영제', '한영기']))"
   ]
  },
  {
   "cell_type": "code",
   "execution_count": 92,
   "metadata": {},
   "outputs": [
    {
     "data": {
      "text/plain": [
       "[18, 9, 24, 27]"
      ]
     },
     "execution_count": 92,
     "metadata": {},
     "output_type": "execute_result"
    }
   ],
   "source": [
    "foo = [1, 18, 9, 22, 17, 24, 8, 27]\n",
    "\n",
    "list(filter(lambda x: x%3 == 0, foo))"
   ]
  },
  {
   "cell_type": "code",
   "execution_count": 104,
   "metadata": {},
   "outputs": [],
   "source": [
    "from functools import reduce\n",
    "\n",
    "# def addsum(x, y):\n",
    "#      return x+y\n",
    "\n",
    "# reduce(addsum,[1,2,3,4,5])\n",
    "reduce?\n",
    "#educe(lambda x, y : x + y, [1,2,3,4,5])"
   ]
  },
  {
   "cell_type": "code",
   "execution_count": 97,
   "metadata": {
    "scrolled": true
   },
   "outputs": [
    {
     "data": {
      "text/plain": [
       "15"
      ]
     },
     "execution_count": 97,
     "metadata": {},
     "output_type": "execute_result"
    }
   ],
   "source": []
  },
  {
   "cell_type": "code",
   "execution_count": null,
   "metadata": {},
   "outputs": [],
   "source": []
  }
 ],
 "metadata": {
  "kernelspec": {
   "display_name": "Python 3",
   "language": "python",
   "name": "python3"
  },
  "language_info": {
   "codemirror_mode": {
    "name": "ipython",
    "version": 3
   },
   "file_extension": ".py",
   "mimetype": "text/x-python",
   "name": "python",
   "nbconvert_exporter": "python",
   "pygments_lexer": "ipython3",
   "version": "3.7.3"
  }
 },
 "nbformat": 4,
 "nbformat_minor": 2
}
