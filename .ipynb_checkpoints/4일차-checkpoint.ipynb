{
 "cells": [
  {
   "cell_type": "code",
   "execution_count": 41,
   "metadata": {},
   "outputs": [],
   "source": [
    "# Stack : LIFO\n",
    "class Stack:\n",
    "    def __init__(self):\n",
    "        self.stack = []\n",
    "        \n",
    "    def pop(self):\n",
    "        if len(self.stack) < 1:\n",
    "            return None\n",
    "        return self.stack.pop()\n",
    "    \n",
    "    def push(self,item):\n",
    "        self.stack.append(item)\n",
    "        \n",
    "    def size(self):\n",
    "        ln = len(self.stack)\n",
    "        return ln\n",
    "   \n",
    "stack = Stack()\n",
    "stack.push('a')\n",
    "stack.push('b')\n",
    "stack.pop()\n",
    "stack.size()"
   ]
  },
  {
   "cell_type": "code",
   "execution_count": null,
   "metadata": {},
   "outputs": [],
   "source": [
    "# Queue : FIFO\n",
    "class Queue:\n",
    "    def __init__(self):\n",
    "        self.queue = []\n",
    "        \n",
    "    def dequeue(self):\n",
    "        if len(self.queue) < 1:\n",
    "            return None\n",
    "        return self.queue.pop(0)\n",
    "    \n",
    "    def enqueue(self,item):\n",
    "        self.queue.append(item)\n",
    "        \n",
    "    def size(self):\n",
    "        ln = len(self.queue)\n",
    "        print(ln)\n",
    "   \n",
    "queue = Queue()\n",
    "queue.enqueue('a')\n",
    "queue.enqueue('b')\n",
    "queue.enqueue('x')\n",
    "queue.dequeue()"
   ]
  },
  {
   "cell_type": "markdown",
   "metadata": {},
   "source": [
    "try:\n",
    "    num = int(input(\"숫자입력 :\" ))\n",
    "    print(num)\n",
    "except ValueError:\n",
    "    print(\"숫자가 아님\")    "
   ]
  },
  {
   "cell_type": "code",
   "execution_count": 43,
   "metadata": {},
   "outputs": [
    {
     "name": "stdout",
     "output_type": "stream",
     "text": [
      "파일 목록 및 크기\n",
      ".git                          4096.00 MB\n",
      ".ipynb_checkpoints            4096.00 MB\n",
      ".spyproject                   4096.00 MB\n",
      "1일차.ipynb                     28344.00 MB\n",
      "2일차.ipynb                     14575.00 MB\n",
      "2일차_2.ipynb                   7498.00 MB\n",
      "3일차.ipynb                     37181.00 MB\n",
      "4일차.ipynb                     3598.00 MB\n",
      "babynames                     4096.00 MB\n",
      "babynames.py                  515.00 MB\n",
      "boilerplate.py                168.00 MB\n",
      "exec1.ipynb                   3114.00 MB\n",
      "module_test.py                287.00 MB\n",
      "practice.py                   379.00 MB\n",
      "subfolder                     4096.00 MB\n",
      "test.txt                      69.00 MB\n",
      "test3.txt                     61.00 MB\n",
      "Untitled.ipynb                695.00 MB\n",
      "Untitled1.ipynb               72.00 MB\n",
      "__pycache__                   0.00 MB\n"
     ]
    }
   ],
   "source": [
    "import os\n",
    "print('파일 목록 및 크기')\n",
    "for file in os.listdir():\n",
    "    print(\"{:30}{:.2f} MB\".format(file, os.path.getsize(file)))"
   ]
  },
  {
   "cell_type": "code",
   "execution_count": 44,
   "metadata": {},
   "outputs": [
    {
     "name": "stdout",
     "output_type": "stream",
     "text": [
      "[1, 2, 3, 4, 5, 6, 7]\n"
     ]
    }
   ],
   "source": [
    "def flatten_list(alist, flatten_result=None):\n",
    "    \n",
    "    if flatten_result is None:\n",
    "        flatten_result = []\n",
    "    \n",
    "    for a in alist:\n",
    "        if isinstance (a, list):\n",
    "            flatten_list(a, flatten_result)\n",
    "        else:\n",
    "            flatten_result.append(a)\n",
    "\n",
    "    return flatten_result\n",
    "\n",
    "print(flatten_list ([[1,2,[3,4]],[5,6],7]))"
   ]
  },
  {
   "cell_type": "code",
   "execution_count": 62,
   "metadata": {},
   "outputs": [
    {
     "ename": "TypeError",
     "evalue": "'NoneType' object is not iterable",
     "output_type": "error",
     "traceback": [
      "\u001b[1;31m---------------------------------------------------------------------------\u001b[0m",
      "\u001b[1;31mTypeError\u001b[0m                                 Traceback (most recent call last)",
      "\u001b[1;32m<ipython-input-62-806e11aad120>\u001b[0m in \u001b[0;36m<module>\u001b[1;34m\u001b[0m\n\u001b[0;32m     10\u001b[0m     \u001b[1;32mreturn\u001b[0m \u001b[0mresult_val\u001b[0m\u001b[1;33m\u001b[0m\u001b[1;33m\u001b[0m\u001b[0m\n\u001b[0;32m     11\u001b[0m \u001b[1;33m\u001b[0m\u001b[0m\n\u001b[1;32m---> 12\u001b[1;33m \u001b[0mrecursive\u001b[0m\u001b[1;33m(\u001b[0m\u001b[1;34m'.다니습있 수 할 을밍래그로프 nohtyP 는나'\u001b[0m\u001b[1;33m)\u001b[0m\u001b[1;33m\u001b[0m\u001b[1;33m\u001b[0m\u001b[0m\n\u001b[0m",
      "\u001b[1;32m<ipython-input-62-806e11aad120>\u001b[0m in \u001b[0;36mrecursive\u001b[1;34m(strn)\u001b[0m\n\u001b[0;32m      7\u001b[0m             \u001b[1;32mreturn\u001b[0m \u001b[1;32mNone\u001b[0m\u001b[1;33m\u001b[0m\u001b[1;33m\u001b[0m\u001b[0m\n\u001b[0;32m      8\u001b[0m         \u001b[1;32melse\u001b[0m\u001b[1;33m:\u001b[0m\u001b[1;33m\u001b[0m\u001b[1;33m\u001b[0m\u001b[0m\n\u001b[1;32m----> 9\u001b[1;33m             \u001b[0mrecursive\u001b[0m\u001b[1;33m(\u001b[0m\u001b[0mresult_val\u001b[0m\u001b[1;33m.\u001b[0m\u001b[0mappend\u001b[0m\u001b[1;33m(\u001b[0m\u001b[0ms\u001b[0m\u001b[1;33m)\u001b[0m\u001b[1;33m)\u001b[0m\u001b[1;33m\u001b[0m\u001b[1;33m\u001b[0m\u001b[0m\n\u001b[0m\u001b[0;32m     10\u001b[0m     \u001b[1;32mreturn\u001b[0m \u001b[0mresult_val\u001b[0m\u001b[1;33m\u001b[0m\u001b[1;33m\u001b[0m\u001b[0m\n\u001b[0;32m     11\u001b[0m \u001b[1;33m\u001b[0m\u001b[0m\n",
      "\u001b[1;32m<ipython-input-62-806e11aad120>\u001b[0m in \u001b[0;36mrecursive\u001b[1;34m(strn)\u001b[0m\n\u001b[0;32m      3\u001b[0m \u001b[1;32mdef\u001b[0m \u001b[0mrecursive\u001b[0m\u001b[1;33m(\u001b[0m\u001b[0mstrn\u001b[0m\u001b[1;33m)\u001b[0m\u001b[1;33m:\u001b[0m\u001b[1;33m\u001b[0m\u001b[1;33m\u001b[0m\u001b[0m\n\u001b[0;32m      4\u001b[0m     \u001b[0mresult_val\u001b[0m \u001b[1;33m=\u001b[0m \u001b[1;33m[\u001b[0m\u001b[1;33m]\u001b[0m\u001b[1;33m\u001b[0m\u001b[1;33m\u001b[0m\u001b[0m\n\u001b[1;32m----> 5\u001b[1;33m     \u001b[1;32mfor\u001b[0m \u001b[0ms\u001b[0m \u001b[1;32min\u001b[0m \u001b[0mstrn\u001b[0m\u001b[1;33m:\u001b[0m\u001b[1;33m\u001b[0m\u001b[1;33m\u001b[0m\u001b[0m\n\u001b[0m\u001b[0;32m      6\u001b[0m         \u001b[1;32mif\u001b[0m \u001b[0ms\u001b[0m \u001b[1;33m==\u001b[0m \u001b[1;34m''\u001b[0m\u001b[1;33m:\u001b[0m\u001b[1;33m\u001b[0m\u001b[1;33m\u001b[0m\u001b[0m\n\u001b[0;32m      7\u001b[0m             \u001b[1;32mreturn\u001b[0m \u001b[1;32mNone\u001b[0m\u001b[1;33m\u001b[0m\u001b[1;33m\u001b[0m\u001b[0m\n",
      "\u001b[1;31mTypeError\u001b[0m: 'NoneType' object is not iterable"
     ]
    }
   ],
   "source": [
    "#1. 재귀적 방법\n",
    "\n",
    "def recursive(strn):\n",
    "    if not s:\n",
    "        return ''\n",
    "    else:\n",
    "        return s[-1] + recursive(s[:-1])\n",
    "\n",
    "recursive('.다니습있 수 할 을밍래그로프 nohtyP 는나')      \n",
    "\n",
    "#2. for loop 과 String 연산 사용\n",
    "sum = ''\n",
    "for s in string:\n",
    "    sum = s + sum\n",
    "    \n",
    "print(sum)"
   ]
  },
  {
   "cell_type": "code",
   "execution_count": null,
   "metadata": {},
   "outputs": [],
   "source": []
  },
  {
   "cell_type": "code",
   "execution_count": null,
   "metadata": {},
   "outputs": [],
   "source": []
  }
 ],
 "metadata": {
  "kernelspec": {
   "display_name": "Python 3",
   "language": "python",
   "name": "python3"
  },
  "language_info": {
   "codemirror_mode": {
    "name": "ipython",
    "version": 3
   },
   "file_extension": ".py",
   "mimetype": "text/x-python",
   "name": "python",
   "nbconvert_exporter": "python",
   "pygments_lexer": "ipython3",
   "version": "3.7.3"
  }
 },
 "nbformat": 4,
 "nbformat_minor": 2
}
