{
 "cells": [
  {
   "cell_type": "code",
   "execution_count": 41,
   "metadata": {},
   "outputs": [],
   "source": [
    "# Stack : LIFO\n",
    "class Stack:\n",
    "    def __init__(self):\n",
    "        self.stack = []\n",
    "        \n",
    "    def pop(self):\n",
    "        if len(self.stack) < 1:\n",
    "            return None\n",
    "        return self.stack.pop()\n",
    "    \n",
    "    def push(self,item):\n",
    "        self.stack.append(item)\n",
    "        \n",
    "    def size(self):\n",
    "        ln = len(self.stack)\n",
    "        return ln\n",
    "   \n",
    "stack = Stack()\n",
    "stack.push('a')\n",
    "stack.push('b')\n",
    "stack.pop()\n",
    "stack.size()"
   ]
  },
  {
   "cell_type": "code",
   "execution_count": null,
   "metadata": {},
   "outputs": [],
   "source": [
    "# Queue : FIFO\n",
    "class Queue:\n",
    "    def __init__(self):\n",
    "        self.queue = []\n",
    "        \n",
    "    def dequeue(self):\n",
    "        if len(self.queue) < 1:\n",
    "            return None\n",
    "        return self.queue.pop(0)\n",
    "    \n",
    "    def enqueue(self,item):\n",
    "        self.queue.append(item)\n",
    "        \n",
    "    def size(self):\n",
    "        ln = len(self.queue)\n",
    "        print(ln)\n",
    "   \n",
    "queue = Queue()\n",
    "queue.enqueue('a')\n",
    "queue.enqueue('b')\n",
    "queue.enqueue('x')\n",
    "queue.dequeue()"
   ]
  },
  {
   "cell_type": "markdown",
   "metadata": {},
   "source": [
    "try:\n",
    "    num = int(input(\"숫자입력 :\" ))\n",
    "    print(num)\n",
    "except ValueError:\n",
    "    print(\"숫자가 아님\")    "
   ]
  },
  {
   "cell_type": "code",
   "execution_count": 43,
   "metadata": {},
   "outputs": [
    {
     "name": "stdout",
     "output_type": "stream",
     "text": [
      "파일 목록 및 크기\n",
      ".git                          4096.00 MB\n",
      ".ipynb_checkpoints            4096.00 MB\n",
      ".spyproject                   4096.00 MB\n",
      "1일차.ipynb                     28344.00 MB\n",
      "2일차.ipynb                     14575.00 MB\n",
      "2일차_2.ipynb                   7498.00 MB\n",
      "3일차.ipynb                     37181.00 MB\n",
      "4일차.ipynb                     3598.00 MB\n",
      "babynames                     4096.00 MB\n",
      "babynames.py                  515.00 MB\n",
      "boilerplate.py                168.00 MB\n",
      "exec1.ipynb                   3114.00 MB\n",
      "module_test.py                287.00 MB\n",
      "practice.py                   379.00 MB\n",
      "subfolder                     4096.00 MB\n",
      "test.txt                      69.00 MB\n",
      "test3.txt                     61.00 MB\n",
      "Untitled.ipynb                695.00 MB\n",
      "Untitled1.ipynb               72.00 MB\n",
      "__pycache__                   0.00 MB\n"
     ]
    }
   ],
   "source": [
    "import os\n",
    "print('파일 목록 및 크기')\n",
    "for file in os.listdir():\n",
    "    print(\"{:30}{:.2f} MB\".format(file, os.path.getsize(file)))"
   ]
  },
  {
   "cell_type": "code",
   "execution_count": 44,
   "metadata": {},
   "outputs": [
    {
     "name": "stdout",
     "output_type": "stream",
     "text": [
      "[1, 2, 3, 4, 5, 6, 7]\n"
     ]
    }
   ],
   "source": [
    "def flatten_list(alist, flatten_result=None):\n",
    "    \n",
    "    if flatten_result is None:\n",
    "        flatten_result = []\n",
    "    \n",
    "    for a in alist:\n",
    "        if isinstance (a, list):\n",
    "            flatten_list(a, flatten_result)\n",
    "        else:\n",
    "            flatten_result.append(a)\n",
    "\n",
    "    return flatten_result\n",
    "\n",
    "print(flatten_list ([[1,2,[3,4]],[5,6],7]))"
   ]
  },
  {
   "cell_type": "code",
   "execution_count": 65,
   "metadata": {},
   "outputs": [
    {
     "data": {
      "text/plain": [
       "'나는 Python 프로그래밍을 할 수 있습니다.'"
      ]
     },
     "execution_count": 65,
     "metadata": {},
     "output_type": "execute_result"
    }
   ],
   "source": [
    "#1. 재귀적 방법\n",
    "\n",
    "def recursive(strn):\n",
    "    if not strn:\n",
    "        return ''\n",
    "    else:\n",
    "        return strn[-1] + recursive(strn[:-1])\n",
    "\n",
    "recursive('.다니습있 수 할 을밍래그로프 nohtyP 는나')    \n"
   ]
  },
  {
   "cell_type": "code",
   "execution_count": null,
   "metadata": {},
   "outputs": [],
   "source": []
  },
  {
   "cell_type": "code",
   "execution_count": 66,
   "metadata": {},
   "outputs": [
    {
     "data": {
      "text/plain": [
       "'나는 Python 프로그래밍을 할 수 있습니다.'"
      ]
     },
     "execution_count": 66,
     "metadata": {},
     "output_type": "execute_result"
    }
   ],
   "source": [
    "#3. pythonic way\n",
    "string = '.다니습있 수 할 을밍래그로프 nohtyP 는나'\n",
    "string[::-1]"
   ]
  },
  {
   "cell_type": "code",
   "execution_count": 70,
   "metadata": {},
   "outputs": [
    {
     "name": "stdout",
     "output_type": "stream",
     "text": [
      "123\n"
     ]
    }
   ],
   "source": [
    "'''\n",
    "First Class Citizen(일급시민)\n",
    "- 변수에 담을 수 있다\n",
    "- 인자(Parameger)로 전달할 수 있다\n",
    "- return 값으로 반환할 수 있다\n",
    "'''\n",
    "def first_class(a):\n",
    "    print(a)\n",
    "    \n",
    "val = first_class\n",
    "val(123)"
   ]
  },
  {
   "cell_type": "code",
   "execution_count": 73,
   "metadata": {},
   "outputs": [
    {
     "data": {
      "text/plain": [
       "13"
      ]
     },
     "execution_count": 73,
     "metadata": {},
     "output_type": "execute_result"
    }
   ],
   "source": [
    "'''\n",
    "lambda\n",
    "- python 의 함수 생성방법은 def 와 lambda 두 가지가 있다.\n",
    "- lambda 는 익명(anonymous)함수 이다\n",
    "- 한번 사용할 간단한 함수인 경우 사용\n",
    "'''\n",
    "def sum(x,y):\n",
    "    return x+y\n",
    "\n",
    "#sum(1,12)\n",
    "(lambda x, y: x + y)(1,12)"
   ]
  },
  {
   "cell_type": "code",
   "execution_count": 74,
   "metadata": {},
   "outputs": [
    {
     "name": "stdout",
     "output_type": "stream",
     "text": [
      "64\n"
     ]
    }
   ],
   "source": [
    "g = lambda x:x**2\n",
    "print(g(8))"
   ]
  },
  {
   "cell_type": "code",
   "execution_count": 76,
   "metadata": {},
   "outputs": [
    {
     "data": {
      "text/plain": [
       "10"
      ]
     },
     "execution_count": 76,
     "metadata": {},
     "output_type": "execute_result"
    }
   ],
   "source": [
    "f = (lambda x, y : x + y)\n",
    "f(4,6)"
   ]
  },
  {
   "cell_type": "code",
   "execution_count": 78,
   "metadata": {},
   "outputs": [
    {
     "name": "stdout",
     "output_type": "stream",
     "text": [
      "5\n",
      "7\n"
     ]
    }
   ],
   "source": [
    "'''\n",
    "lambda 를 closure 로 사용\n",
    "'''\n",
    "def inc(n):\n",
    "    return lambda x:x+n\n",
    "\n",
    "add2 = inc(2)\n",
    "print(add2(3))\n",
    "\n",
    "add4 = inc(4)\n",
    "print(add4(3))"
   ]
  },
  {
   "cell_type": "code",
   "execution_count": 95,
   "metadata": {},
   "outputs": [],
   "source": [
    "# def square(x):\n",
    "#     return x*x\n",
    "\n",
    "# list(map(square, [1, 2, 3, 4, 5]))\n",
    "\n",
    "# map?\n",
    "list(map(lambda x: x*x, [1, 2, 3, 4, 5]))"
   ]
  },
  {
   "cell_type": "code",
   "execution_count": 87,
   "metadata": {},
   "outputs": [
    {
     "data": {
      "text/plain": [
       "[18, 14, 14, 14]"
      ]
     },
     "execution_count": 87,
     "metadata": {},
     "output_type": "execute_result"
    }
   ],
   "source": [
    "a = [1, 2, 3, 4]\n",
    "b = [17, 12, 11, 10]\n",
    "\n",
    "list(map(lambda x, y: x+y, a, b))"
   ]
  },
  {
   "cell_type": "code",
   "execution_count": 90,
   "metadata": {},
   "outputs": [
    {
     "data": {
      "text/plain": [
       "[6, 7, 8, 9]"
      ]
     },
     "execution_count": 90,
     "metadata": {},
     "output_type": "execute_result"
    }
   ],
   "source": [
    "# def test(x):\n",
    "#     if x > 5:\n",
    "#         return x\n",
    "#     else:\n",
    "#         return None\n",
    "    \n",
    "# list(filter(test, [1, 2, 3, 4, 5, 6, 7, 8, 9]))\n",
    "\n",
    "#filter?\n",
    "\n",
    "list(filter(lambda x: x > 5 , [1, 2, 3, 4, 5, 6, 7, 8, 9]))"
   ]
  },
  {
   "cell_type": "code",
   "execution_count": 91,
   "metadata": {},
   "outputs": [
    {
     "data": {
      "text/plain": [
       "['김갑돌', '김성환']"
      ]
     },
     "execution_count": 91,
     "metadata": {},
     "output_type": "execute_result"
    }
   ],
   "source": [
    "list(filter(lambda x: x.startswith('김'), ['김갑돌', '김성환', '오영제', '한영기']))"
   ]
  },
  {
   "cell_type": "code",
   "execution_count": 92,
   "metadata": {},
   "outputs": [
    {
     "data": {
      "text/plain": [
       "[18, 9, 24, 27]"
      ]
     },
     "execution_count": 92,
     "metadata": {},
     "output_type": "execute_result"
    }
   ],
   "source": [
    "foo = [1, 18, 9, 22, 17, 24, 8, 27]\n",
    "\n",
    "list(filter(lambda x: x%3 == 0, foo))"
   ]
  },
  {
   "cell_type": "code",
   "execution_count": 104,
   "metadata": {},
   "outputs": [],
   "source": [
    "from functools import reduce\n",
    "\n",
    "# def addsum(x, y):\n",
    "#      return x+y\n",
    "\n",
    "# reduce(addsum,[1,2,3,4,5])\n",
    "reduce?\n",
    "#educe(lambda x, y : x + y, [1,2,3,4,5])"
   ]
  },
  {
   "cell_type": "code",
   "execution_count": 107,
   "metadata": {
    "scrolled": true
   },
   "outputs": [
    {
     "data": {
      "text/plain": [
       "12"
      ]
     },
     "execution_count": 107,
     "metadata": {},
     "output_type": "execute_result"
    }
   ],
   "source": [
    "def multiple(a):\n",
    "    \n",
    "    def mult(number):\n",
    "        return a * number\n",
    "    \n",
    "    return mult\n",
    "\n",
    "double = multiple(2)\n",
    "double(4)\n",
    "\n",
    "triple = multiple(3)\n",
    "triple(4)"
   ]
  },
  {
   "cell_type": "code",
   "execution_count": 118,
   "metadata": {},
   "outputs": [
    {
     "data": {
      "text/plain": [
       "4"
      ]
     },
     "execution_count": 118,
     "metadata": {},
     "output_type": "execute_result"
    }
   ],
   "source": [
    "def multiple(a , b):\n",
    "    \n",
    "    def mult(number):\n",
    "        return ( a * b )  * number \n",
    "    \n",
    "    return mult\n",
    "\n",
    "double = multiple(2 ,4)\n",
    "double(4)\n",
    "\n",
    "# triple = multiple(3)\n",
    "# triple(4)\n",
    "\n",
    "dir(double)\n",
    "double.__closure__[0].cell_contents\n",
    "double.__closure__[1].cell_contents"
   ]
  },
  {
   "cell_type": "code",
   "execution_count": 126,
   "metadata": {},
   "outputs": [],
   "source": [
    "def decorator_function(original_function):\n",
    "    def wrapper_function(*args):\n",
    "        print(\"{} 함수가 실행되었습니다.\".format(original_function.__name__))\n",
    "        for arg in args:\n",
    "            print(arg)\n",
    "        return original_function(*args)\n",
    "    return wrapper_function"
   ]
  },
  {
   "cell_type": "code",
   "execution_count": 130,
   "metadata": {},
   "outputs": [],
   "source": [
    "@decorator_function\n",
    "def display(msg1):\n",
    "    print(\"response complete\")"
   ]
  },
  {
   "cell_type": "code",
   "execution_count": 131,
   "metadata": {},
   "outputs": [
    {
     "name": "stdout",
     "output_type": "stream",
     "text": [
      "display 함수가 실행되었습니다.\n",
      "여러 함수에 공통인 기능을 유지 관리하기 편합니다.\n",
      "response complete\n"
     ]
    }
   ],
   "source": [
    "display(\"여러 함수에 공통인 기능을 유지 관리하기 편합니다.\")"
   ]
  },
  {
   "cell_type": "code",
   "execution_count": 128,
   "metadata": {},
   "outputs": [],
   "source": [
    "@decorator_function\n",
    "def display_info(name, age):\n",
    "    print(\"web server program (flask, django) 에서 많이 사용 합니다.\")"
   ]
  },
  {
   "cell_type": "code",
   "execution_count": 129,
   "metadata": {},
   "outputs": [
    {
     "name": "stdout",
     "output_type": "stream",
     "text": [
      "display_info 함수가 실행되었습니다.\n",
      "John\n",
      "50\n",
      "web server program (flask, django) 에서 많이 사용 합니다.\n"
     ]
    }
   ],
   "source": [
    "display_info('John',50)"
   ]
  },
  {
   "cell_type": "code",
   "execution_count": 132,
   "metadata": {},
   "outputs": [],
   "source": [
    "# 일반적 함수 -> 한번에 결과 return\n",
    "\n",
    "def fibs(n):\n",
    "    result = []\n",
    "    a = 1\n",
    "    b = 1\n",
    "    for i in range(n):\n",
    "        result.append(a)\n",
    "        a, b = b, a + b\n",
    "    return result"
   ]
  },
  {
   "cell_type": "code",
   "execution_count": 133,
   "metadata": {},
   "outputs": [
    {
     "name": "stdout",
     "output_type": "stream",
     "text": [
      "[1, 1, 2, 3, 5, 8, 13, 21, 34, 55, 89, 144, 233, 377, 610, 987, 1597, 2584, 4181, 6765, 10946, 17711, 28657, 46368, 75025, 121393, 196418, 317811, 514229, 832040]\n"
     ]
    }
   ],
   "source": [
    "print(fibs(30))"
   ]
  },
  {
   "cell_type": "code",
   "execution_count": 164,
   "metadata": {},
   "outputs": [],
   "source": [
    "# generator 함수 ->\n",
    "\n",
    "def fibs2(n):\n",
    "    a = 1\n",
    "    b = 1\n",
    "    for i in range(n):\n",
    "        yield a                  # yield 문 안의 표현식을 반환하고, 실행 일시 중단\n",
    "        a, b = b, a + b"
   ]
  },
  {
   "cell_type": "code",
   "execution_count": 165,
   "metadata": {},
   "outputs": [],
   "source": [
    "fib = fibs2(100)              # generator object 반환\n",
    "#type(fib)"
   ]
  },
  {
   "cell_type": "code",
   "execution_count": 166,
   "metadata": {},
   "outputs": [],
   "source": [
    "#next(fib)"
   ]
  },
  {
   "cell_type": "code",
   "execution_count": 167,
   "metadata": {},
   "outputs": [
    {
     "name": "stdout",
     "output_type": "stream",
     "text": [
      "1\n",
      "1\n",
      "2\n",
      "3\n",
      "5\n",
      "8\n",
      "13\n",
      "21\n",
      "34\n",
      "55\n",
      "89\n",
      "144\n",
      "233\n",
      "377\n",
      "610\n",
      "987\n",
      "1597\n",
      "2584\n",
      "4181\n",
      "6765\n",
      "10946\n",
      "17711\n",
      "28657\n",
      "46368\n",
      "75025\n",
      "121393\n",
      "196418\n",
      "317811\n",
      "514229\n",
      "832040\n",
      "1346269\n",
      "2178309\n",
      "3524578\n",
      "5702887\n",
      "9227465\n",
      "14930352\n",
      "24157817\n",
      "39088169\n",
      "63245986\n",
      "102334155\n",
      "165580141\n",
      "267914296\n",
      "433494437\n",
      "701408733\n",
      "1134903170\n",
      "1836311903\n",
      "2971215073\n",
      "4807526976\n",
      "7778742049\n",
      "12586269025\n",
      "20365011074\n",
      "32951280099\n",
      "53316291173\n",
      "86267571272\n",
      "139583862445\n",
      "225851433717\n",
      "365435296162\n",
      "591286729879\n",
      "956722026041\n",
      "1548008755920\n",
      "2504730781961\n",
      "4052739537881\n",
      "6557470319842\n",
      "10610209857723\n",
      "17167680177565\n",
      "27777890035288\n",
      "44945570212853\n",
      "72723460248141\n",
      "117669030460994\n",
      "190392490709135\n",
      "308061521170129\n",
      "498454011879264\n",
      "806515533049393\n",
      "1304969544928657\n",
      "2111485077978050\n",
      "3416454622906707\n",
      "5527939700884757\n",
      "8944394323791464\n",
      "14472334024676221\n",
      "23416728348467685\n",
      "37889062373143906\n",
      "61305790721611591\n",
      "99194853094755497\n",
      "160500643816367088\n",
      "259695496911122585\n",
      "420196140727489673\n",
      "679891637638612258\n",
      "1100087778366101931\n",
      "1779979416004714189\n",
      "2880067194370816120\n",
      "4660046610375530309\n",
      "7540113804746346429\n",
      "12200160415121876738\n",
      "19740274219868223167\n",
      "31940434634990099905\n",
      "51680708854858323072\n",
      "83621143489848422977\n",
      "135301852344706746049\n",
      "218922995834555169026\n",
      "354224848179261915075\n"
     ]
    }
   ],
   "source": [
    "for _ in range(100):\n",
    "    print(next(fib))"
   ]
  },
  {
   "cell_type": "code",
   "execution_count": 187,
   "metadata": {},
   "outputs": [
    {
     "ename": "SyntaxError",
     "evalue": "unexpected EOF while parsing (<ipython-input-187-13c8d953c58a>, line 4)",
     "output_type": "error",
     "traceback": [
      "\u001b[1;36m  File \u001b[1;32m\"<ipython-input-187-13c8d953c58a>\"\u001b[1;36m, line \u001b[1;32m4\u001b[0m\n\u001b[1;33m    print((lambda x : len(s.split(',')),s)\u001b[0m\n\u001b[1;37m                                          ^\u001b[0m\n\u001b[1;31mSyntaxError\u001b[0m\u001b[1;31m:\u001b[0m unexpected EOF while parsing\n"
     ]
    }
   ],
   "source": [
    "test_list=['this is a book','good morning', 'apple', 'apple oragne pear', 'hello python and functional programming']\n",
    "\n",
    "for s in test_list:\n",
    "    print((lambda x : s.split(','),s)"
   ]
  },
  {
   "cell_type": "code",
   "execution_count": null,
   "metadata": {},
   "outputs": [],
   "source": []
  }
 ],
 "metadata": {
  "kernelspec": {
   "display_name": "Python 3",
   "language": "python",
   "name": "python3"
  },
  "language_info": {
   "codemirror_mode": {
    "name": "ipython",
    "version": 3
   },
   "file_extension": ".py",
   "mimetype": "text/x-python",
   "name": "python",
   "nbconvert_exporter": "python",
   "pygments_lexer": "ipython3",
   "version": "3.7.3"
  }
 },
 "nbformat": 4,
 "nbformat_minor": 2
}
